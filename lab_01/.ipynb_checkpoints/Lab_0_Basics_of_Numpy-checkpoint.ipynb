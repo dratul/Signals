{
 "cells": [
  {
   "cell_type": "markdown",
   "metadata": {
    "id": "68i6x77GkXeM"
   },
   "source": [
    "<center><h1>Lab 0 – NumPy for Data-Processing</h1></center>\n",
    "\n",
    "\n",
    "---\n",
    "\n",
    "This notebook discusses basics of most important Python library for Signals and systems Lab - `Numpy`. Numpy is a scientific computing tool"
   ]
  },
  {
   "cell_type": "markdown",
   "metadata": {
    "id": "47PMwHK6HLmQ"
   },
   "source": [
    "## Numpy arrays\n",
    "Numpy arrays offer the following benefits over Python lists for operating on numerical data:\n",
    "\n",
    "- **Ease of use**: You can write small, concise, and intuitive mathematical expressions.\n",
    "- **Performance**: Numpy operations and functions are implemented internally in C++, which makes them much faster than using Python statements & loops that are interpreted at runtime\n",
    "Numpy arrays behave like **true numerical vectors**, not ordinary lists. That's why they are used for all mathematical operations, machine learning algorithms, and as basis of Pandas DataFrame for data analytics.\n"
   ]
  },
  {
   "cell_type": "code",
   "execution_count": 1,
   "metadata": {
    "executionInfo": {
     "elapsed": 11,
     "status": "ok",
     "timestamp": 1659611774693,
     "user": {
      "displayName": "Abdulaziz Mohammad",
      "userId": "00984729133826365059"
     },
     "user_tz": -330
    },
    "id": "Q18raiZRkXeX"
   },
   "outputs": [
    {
     "name": "stdout",
     "output_type": "stream",
     "text": [
      "3.11.1\n",
      "1.26.3\n"
     ]
    }
   ],
   "source": [
    "from platform import python_version   # show python version\n",
    "print(python_version())\n",
    "\n",
    "\n",
    "import numpy as np\n",
    "print(np.__version__)    # show Numpy version installed"
   ]
  },
  {
   "cell_type": "code",
   "execution_count": 2,
   "metadata": {
    "executionInfo": {
     "elapsed": 7,
     "status": "ok",
     "timestamp": 1659611911127,
     "user": {
      "displayName": "Abdulaziz Mohammad",
      "userId": "00984729133826365059"
     },
     "user_tz": -330
    },
    "id": "8iI6XwvhkXea"
   },
   "outputs": [],
   "source": [
    "lst1=[1,2,3,4]   # initialized python list\n",
    "array1 = np.array(lst1)   #converting list to nd array"
   ]
  },
  {
   "cell_type": "code",
   "execution_count": 3,
   "metadata": {
    "colab": {
     "base_uri": "https://localhost:8080/"
    },
    "executionInfo": {
     "elapsed": 424,
     "status": "ok",
     "timestamp": 1659611792993,
     "user": {
      "displayName": "Abdulaziz Mohammad",
      "userId": "00984729133826365059"
     },
     "user_tz": -330
    },
    "id": "00Mkgj_NkXed",
    "outputId": "688efcbe-ae6d-4503-bb86-9ac73677715c"
   },
   "outputs": [
    {
     "data": {
      "text/plain": [
       "list"
      ]
     },
     "execution_count": 3,
     "metadata": {},
     "output_type": "execute_result"
    }
   ],
   "source": [
    "type(lst1) # checking data type of list1"
   ]
  },
  {
   "cell_type": "code",
   "execution_count": 4,
   "metadata": {
    "colab": {
     "base_uri": "https://localhost:8080/"
    },
    "executionInfo": {
     "elapsed": 436,
     "status": "ok",
     "timestamp": 1659611796249,
     "user": {
      "displayName": "Abdulaziz Mohammad",
      "userId": "00984729133826365059"
     },
     "user_tz": -330
    },
    "id": "t3YQRyQIkXee",
    "outputId": "6b5ff318-1b2a-4abb-9b5c-025c24d1d159"
   },
   "outputs": [
    {
     "data": {
      "text/plain": [
       "numpy.ndarray"
      ]
     },
     "execution_count": 4,
     "metadata": {},
     "output_type": "execute_result"
    }
   ],
   "source": [
    "type(array1) #checking data type of array1"
   ]
  },
  {
   "cell_type": "code",
   "execution_count": 5,
   "metadata": {},
   "outputs": [
    {
     "name": "stdout",
     "output_type": "stream",
     "text": [
      "No variables match your requested type.\n"
     ]
    }
   ],
   "source": [
    "whos  # This command displays all the variables used till now"
   ]
  },
  {
   "cell_type": "code",
   "execution_count": 6,
   "metadata": {
    "executionInfo": {
     "elapsed": 7,
     "status": "ok",
     "timestamp": 1659611921700,
     "user": {
      "displayName": "Abdulaziz Mohammad",
      "userId": "00984729133826365059"
     },
     "user_tz": -330
    },
    "id": "QbS_HL7lkXef"
   },
   "outputs": [],
   "source": [
    "lst2=[10,11,12,13,14]    #Again taking a python list \n",
    "array2 = np.array(lst2)  # converted to Numpy Array"
   ]
  },
  {
   "cell_type": "code",
   "execution_count": 64,
   "metadata": {
    "colab": {
     "base_uri": "https://localhost:8080/"
    },
    "executionInfo": {
     "elapsed": 7,
     "status": "ok",
     "timestamp": 1659611924898,
     "user": {
      "displayName": "Abdulaziz Mohammad",
      "userId": "00984729133826365059"
     },
     "user_tz": -330
    },
    "id": "Dt_aeqN_kXeg",
    "outputId": "d095f1a7-cf5b-43cc-fa53-8fd904612679"
   },
   "outputs": [
    {
     "name": "stdout",
     "output_type": "stream",
     "text": [
      "Adding two lists [1, 2, 3, 4] and [10, 11, 12, 13] together: [1, 2, 3, 4, 10, 11, 12, 13]\n",
      "Adding two numpy arrays {array1} and {array2} together: {array1+array2}\n"
     ]
    }
   ],
   "source": [
    "print(f\"Adding two lists {lst1} and {lst2} together: {lst1+lst2}\")\n"
   ]
  },
  {
   "cell_type": "code",
   "execution_count": 66,
   "metadata": {},
   "outputs": [
    {
     "name": "stdout",
     "output_type": "stream",
     "text": [
      "Adding two numpy arrays [1 2 3 4] and [10 11 12 13] together: [11 13 15 17]\n"
     ]
    }
   ],
   "source": [
    "print(f\"Adding two numpy arrays {array1} and {array2} together: {array1+array2}\")"
   ]
  },
  {
   "cell_type": "code",
   "execution_count": 8,
   "metadata": {},
   "outputs": [
    {
     "name": "stdout",
     "output_type": "stream",
     "text": [
      "Hello\n"
     ]
    }
   ],
   "source": [
    "myst='Hello'  # String variable\n",
    "myst.replace('H','a') # replace H by a\n",
    "print(myst)"
   ]
  },
  {
   "cell_type": "code",
   "execution_count": 9,
   "metadata": {},
   "outputs": [
    {
     "name": "stdout",
     "output_type": "stream",
     "text": [
      "Variable         Type        Data/Info\n",
      "--------------------------------------\n",
      "array1           ndarray     4: 4 elems, type `int32`, 16 bytes\n",
      "array2           ndarray     5: 5 elems, type `int32`, 20 bytes\n",
      "lst1             list        n=4\n",
      "lst2             list        n=5\n",
      "myst             str         Hello\n",
      "np               module      <module 'numpy' from 'C:\\<...>ges\\\\numpy\\\\__init__.py'>\n",
      "python_version   function    <function python_version at 0x000001EE88F3C400>\n"
     ]
    }
   ],
   "source": [
    "whos  "
   ]
  },
  {
   "cell_type": "markdown",
   "metadata": {
    "id": "qZGAlap_kXeh"
   },
   "source": [
    "# More on NumPy Arrays\n",
    "---\n",
    "let's discuss some useful array attributes. We'll start by defining three random arrays, a one-dimensional, two-dimensional, and three-dimensional array. We'll use NumPy's random number generator, which we will seed with a set value in order to ensure that the same random arrays are generated each time this code is run:\n",
    "\n",
    "---"
   ]
  },
  {
   "cell_type": "code",
   "execution_count": 11,
   "metadata": {},
   "outputs": [
    {
     "name": "stdout",
     "output_type": "stream",
     "text": [
      "[[1. 2.]\n",
      " [3. 4.]]\n"
     ]
    }
   ],
   "source": [
    "a1=np.array([1,2]) # 1 D array\n",
    "#print(a1)\n",
    "a2=np.array([(1,2),(3,4)],dtype=float) # 2 D array of loat type\n",
    "print(a2)"
   ]
  },
  {
   "cell_type": "code",
   "execution_count": 12,
   "metadata": {
    "executionInfo": {
     "elapsed": 406,
     "status": "ok",
     "timestamp": 1659613370781,
     "user": {
      "displayName": "Abdulaziz Mohammad",
      "userId": "00984729133826365059"
     },
     "user_tz": -330
    },
    "id": "qNqDUDKKkXei"
   },
   "outputs": [],
   "source": [
    "np.random.seed(25)  # seed for reproducibility\n",
    "\n",
    "x1 = np.random.randint(11, size=6, dtype='int16')  # One-dimensional array\n",
    "x2 = np.random.randint(11, size=(5, 4))  # Two-dimensional array\n",
    "x3 = np.random.randint(11, size=(3, 2, 5))  # Three-dimensional array\n",
    "x4= np.random.randint(11, size=(3, 2, 5,4))  # Four-dimensional array"
   ]
  },
  {
   "cell_type": "code",
   "execution_count": 13,
   "metadata": {
    "colab": {
     "base_uri": "https://localhost:8080/"
    },
    "executionInfo": {
     "elapsed": 423,
     "status": "ok",
     "timestamp": 1659613374093,
     "user": {
      "displayName": "Abdulaziz Mohammad",
      "userId": "00984729133826365059"
     },
     "user_tz": -330
    },
    "id": "8ZNsClKUmU2t",
    "outputId": "f1b0419b-e3cf-4cff-b8c3-032061a13180"
   },
   "outputs": [
    {
     "name": "stdout",
     "output_type": "stream",
     "text": [
      "[ 4  0  1 10  0  9]\n",
      "----------\n",
      "[[6 7 2 8]\n",
      " [4 9 4 5]\n",
      " [1 7 3 8]\n",
      " [7 3 4 3]\n",
      " [1 6 0 9]]\n",
      "----------\n",
      "[[[ 0  2  5  4  9]\n",
      "  [ 0 10 10  1  6]]\n",
      "\n",
      " [[ 1  2  4  2  5]\n",
      "  [ 8  0  6  4  2]]\n",
      "\n",
      " [[ 5  9  9  6  0]\n",
      "  [ 2 10  4  3 10]]]\n",
      "----------\n",
      "[[[[ 1  3  5 10]\n",
      "   [ 7  2  3  7]\n",
      "   [10  7  8  3]\n",
      "   [ 5  5  5  3]\n",
      "   [ 2  8  9  3]]\n",
      "\n",
      "  [[ 0  5  8  4]\n",
      "   [ 3  3  5  2]\n",
      "   [ 7  1  6  7]\n",
      "   [ 8  7  3  2]\n",
      "   [ 3  1  7 10]]]\n",
      "\n",
      "\n",
      " [[[ 3  9  8  0]\n",
      "   [ 0  3  7  0]\n",
      "   [ 0  9  4  4]\n",
      "   [ 8  6  7  0]\n",
      "   [ 7  2  6  0]]\n",
      "\n",
      "  [[ 0  4  5  3]\n",
      "   [ 0  0  4  1]\n",
      "   [ 2  6  1  5]\n",
      "   [ 0  3  6  1]\n",
      "   [ 1  2  8  6]]]\n",
      "\n",
      "\n",
      " [[[ 3  4 10  7]\n",
      "   [ 0  2  9  7]\n",
      "   [ 9  5  7  0]\n",
      "   [ 7  2  0  5]\n",
      "   [ 6  9  8  6]]\n",
      "\n",
      "  [[10  2  2  5]\n",
      "   [ 5  5  9  4]\n",
      "   [ 4  7  6  0]\n",
      "   [ 3  8  8  0]\n",
      "   [ 6  6  6  0]]]]\n"
     ]
    }
   ],
   "source": [
    "print(x1) # One-dimensional array\n",
    "print(\"-\" * 10)\n",
    "print(x2) # Two-dimensional array\n",
    "print(\"-\" * 10)\n",
    "print(x3) # Three-dimensional array\n",
    "print(\"-\" * 10)\n",
    "print(x4) # Four-dimensional array"
   ]
  },
  {
   "cell_type": "markdown",
   "metadata": {
    "id": "MCAMsIQinREw"
   },
   "source": [
    "Each array has attributes ndim (the number of dimensions), shape (the size of each dimension), and size (the total size of the array):"
   ]
  },
  {
   "cell_type": "code",
   "execution_count": 14,
   "metadata": {
    "colab": {
     "base_uri": "https://localhost:8080/"
    },
    "executionInfo": {
     "elapsed": 412,
     "status": "ok",
     "timestamp": 1659613379837,
     "user": {
      "displayName": "Abdulaziz Mohammad",
      "userId": "00984729133826365059"
     },
     "user_tz": -330
    },
    "id": "LEa04KS-nTVX",
    "outputId": "6bba3f69-57d5-459b-d983-112bc03d113d"
   },
   "outputs": [
    {
     "name": "stdout",
     "output_type": "stream",
     "text": [
      "The attributes of x3 are::\n",
      "\n",
      "x3 ndim:  3\n",
      "x3 shape: (3, 2, 5)\n",
      "x3 size:  30\n"
     ]
    }
   ],
   "source": [
    "print(\"The attributes of x3 are::\\n\")\n",
    "print(\"x3 ndim: \", x3.ndim)\n",
    "print(\"x3 shape:\", x3.shape)\n",
    "print(\"x3 size: \", x3.size)"
   ]
  },
  {
   "cell_type": "code",
   "execution_count": 15,
   "metadata": {},
   "outputs": [
    {
     "name": "stdout",
     "output_type": "stream",
     "text": [
      "The attributes of x2 are::\n",
      "\n",
      "x3 ndim:  2\n",
      "x3 shape: (5, 4)\n",
      "x3 size:  20\n"
     ]
    }
   ],
   "source": [
    "print(\"The attributes of x2 are::\\n\")\n",
    "print(\"x3 ndim: \", x2.ndim)\n",
    "print(\"x3 shape:\", x2.shape)\n",
    "print(\"x3 size: \", x2.size)"
   ]
  },
  {
   "cell_type": "markdown",
   "metadata": {
    "id": "STFdmNt1nsh_"
   },
   "source": [
    "Another useful attribute is the dtype, the data type of the array."
   ]
  },
  {
   "cell_type": "code",
   "execution_count": 16,
   "metadata": {
    "colab": {
     "base_uri": "https://localhost:8080/"
    },
    "executionInfo": {
     "elapsed": 5,
     "status": "ok",
     "timestamp": 1659612670415,
     "user": {
      "displayName": "Abdulaziz Mohammad",
      "userId": "00984729133826365059"
     },
     "user_tz": -330
    },
    "id": "zxXAlL6Hnt7m",
    "outputId": "58b43a01-ee8a-4173-f7cf-6695c7ff3d95"
   },
   "outputs": [
    {
     "name": "stdout",
     "output_type": "stream",
     "text": [
      "dtype: int32\n"
     ]
    }
   ],
   "source": [
    "print(\"dtype:\", x3.dtype) # 00000000 00000000 00000000 00000000 \n"
   ]
  },
  {
   "cell_type": "code",
   "execution_count": 17,
   "metadata": {},
   "outputs": [
    {
     "data": {
      "text/plain": [
       "dtype('int16')"
      ]
     },
     "execution_count": 17,
     "metadata": {},
     "output_type": "execute_result"
    }
   ],
   "source": [
    "x1.dtype # 00000000 00000000"
   ]
  },
  {
   "cell_type": "markdown",
   "metadata": {
    "id": "GC9Yq1Fin7ES"
   },
   "source": [
    "Other attributes include itemsize, which lists the size (in bytes) of each array element, and nbytes, which lists the total size (in bytes) of the array:"
   ]
  },
  {
   "cell_type": "code",
   "execution_count": 18,
   "metadata": {
    "colab": {
     "base_uri": "https://localhost:8080/"
    },
    "executionInfo": {
     "elapsed": 391,
     "status": "ok",
     "timestamp": 1659612700410,
     "user": {
      "displayName": "Abdulaziz Mohammad",
      "userId": "00984729133826365059"
     },
     "user_tz": -330
    },
    "id": "zVYj8BkGn-cz",
    "outputId": "7b9a659b-8134-4cc1-d0e8-713ecf390d84"
   },
   "outputs": [
    {
     "name": "stdout",
     "output_type": "stream",
     "text": [
      "itemsize: 4 bytes\n",
      "nbytes: 120 bytes\n"
     ]
    }
   ],
   "source": [
    "print(\"itemsize:\", x3.itemsize, \"bytes\")\n",
    "print(\"nbytes:\", x3.nbytes, \"bytes\")"
   ]
  },
  {
   "cell_type": "markdown",
   "metadata": {
    "id": "rQf-c02NoUJY"
   },
   "source": [
    "In general, we expect that nbytes is equal to `itemsize * size`."
   ]
  },
  {
   "cell_type": "markdown",
   "metadata": {
    "id": "NnZBXt3Zpx9a"
   },
   "source": [
    "# Array Indexing: Accessing Single Elements\n",
    "\n",
    "---\n",
    "If you are familiar with Python's standard list indexing, indexing in NumPy will feel quite familiar.\n",
    "In a one-dimensional array, the $i^{th}$ value (counting from zero) can be accessed by specifying the desired index in square brackets, just as with Python lists:\n",
    "\n",
    "---"
   ]
  },
  {
   "cell_type": "code",
   "execution_count": 19,
   "metadata": {
    "colab": {
     "base_uri": "https://localhost:8080/"
    },
    "executionInfo": {
     "elapsed": 427,
     "status": "ok",
     "timestamp": 1659613385957,
     "user": {
      "displayName": "Abdulaziz Mohammad",
      "userId": "00984729133826365059"
     },
     "user_tz": -330
    },
    "id": "KB_uOyItqgCi",
    "outputId": "167c6dd8-98a2-4243-dc8f-797fc1d333c4"
   },
   "outputs": [
    {
     "data": {
      "text/plain": [
       "array([ 4,  0,  1, 10,  0,  9], dtype=int16)"
      ]
     },
     "execution_count": 19,
     "metadata": {},
     "output_type": "execute_result"
    }
   ],
   "source": [
    "x1"
   ]
  },
  {
   "cell_type": "code",
   "execution_count": 20,
   "metadata": {
    "colab": {
     "base_uri": "https://localhost:8080/"
    },
    "executionInfo": {
     "elapsed": 405,
     "status": "ok",
     "timestamp": 1659613408113,
     "user": {
      "displayName": "Abdulaziz Mohammad",
      "userId": "00984729133826365059"
     },
     "user_tz": -330
    },
    "id": "ZQ56KvxAqh2X",
    "outputId": "baceeaac-a521-4173-bd3f-783d53013403"
   },
   "outputs": [
    {
     "data": {
      "text/plain": [
       "0"
      ]
     },
     "execution_count": 20,
     "metadata": {},
     "output_type": "execute_result"
    }
   ],
   "source": [
    "x1[4]"
   ]
  },
  {
   "cell_type": "markdown",
   "metadata": {
    "id": "r1qEq8cFqzzO"
   },
   "source": [
    "To index from the end of the array, you can use negative indices:"
   ]
  },
  {
   "cell_type": "code",
   "execution_count": 21,
   "metadata": {
    "colab": {
     "base_uri": "https://localhost:8080/"
    },
    "executionInfo": {
     "elapsed": 7,
     "status": "ok",
     "timestamp": 1659613438773,
     "user": {
      "displayName": "Abdulaziz Mohammad",
      "userId": "00984729133826365059"
     },
     "user_tz": -330
    },
    "id": "_HQu4st2qvPt",
    "outputId": "69b8c837-d769-485c-eb5e-961ca95aa894"
   },
   "outputs": [
    {
     "data": {
      "text/plain": [
       "9"
      ]
     },
     "execution_count": 21,
     "metadata": {},
     "output_type": "execute_result"
    }
   ],
   "source": [
    "x1[-1]"
   ]
  },
  {
   "cell_type": "code",
   "execution_count": 22,
   "metadata": {
    "colab": {
     "base_uri": "https://localhost:8080/"
    },
    "executionInfo": {
     "elapsed": 8,
     "status": "ok",
     "timestamp": 1659613454003,
     "user": {
      "displayName": "Abdulaziz Mohammad",
      "userId": "00984729133826365059"
     },
     "user_tz": -330
    },
    "id": "kFcJ2ca0q3Jb",
    "outputId": "8998eb33-2791-49e5-e6e4-b3d07bece1d1"
   },
   "outputs": [
    {
     "data": {
      "text/plain": [
       "0"
      ]
     },
     "execution_count": 22,
     "metadata": {},
     "output_type": "execute_result"
    }
   ],
   "source": [
    "x1[-2]"
   ]
  },
  {
   "cell_type": "markdown",
   "metadata": {
    "id": "756hQvsdq9Dz"
   },
   "source": [
    "In a multi-dimensional array, items can be accessed using a comma-separated tuple of indices:"
   ]
  },
  {
   "cell_type": "code",
   "execution_count": 23,
   "metadata": {
    "colab": {
     "base_uri": "https://localhost:8080/"
    },
    "executionInfo": {
     "elapsed": 415,
     "status": "ok",
     "timestamp": 1659613482315,
     "user": {
      "displayName": "Abdulaziz Mohammad",
      "userId": "00984729133826365059"
     },
     "user_tz": -330
    },
    "id": "s_ATohO_q-k8",
    "outputId": "01cf28c3-a787-4d00-9d97-65ded4d5abf9"
   },
   "outputs": [
    {
     "data": {
      "text/plain": [
       "array([[6, 7, 2, 8],\n",
       "       [4, 9, 4, 5],\n",
       "       [1, 7, 3, 8],\n",
       "       [7, 3, 4, 3],\n",
       "       [1, 6, 0, 9]])"
      ]
     },
     "execution_count": 23,
     "metadata": {},
     "output_type": "execute_result"
    }
   ],
   "source": [
    "x2"
   ]
  },
  {
   "cell_type": "code",
   "execution_count": 24,
   "metadata": {},
   "outputs": [
    {
     "data": {
      "text/plain": [
       "6"
      ]
     },
     "execution_count": 24,
     "metadata": {},
     "output_type": "execute_result"
    }
   ],
   "source": [
    "x2[0][0]"
   ]
  },
  {
   "cell_type": "code",
   "execution_count": 25,
   "metadata": {
    "colab": {
     "base_uri": "https://localhost:8080/"
    },
    "executionInfo": {
     "elapsed": 410,
     "status": "ok",
     "timestamp": 1659613495812,
     "user": {
      "displayName": "Abdulaziz Mohammad",
      "userId": "00984729133826365059"
     },
     "user_tz": -330
    },
    "id": "38ncsn9WrBhP",
    "outputId": "0da738a8-708b-48c4-8987-c76c4fdf8d8b"
   },
   "outputs": [
    {
     "data": {
      "text/plain": [
       "6"
      ]
     },
     "execution_count": 25,
     "metadata": {},
     "output_type": "execute_result"
    }
   ],
   "source": [
    "x2[0, 0]"
   ]
  },
  {
   "cell_type": "code",
   "execution_count": 26,
   "metadata": {
    "colab": {
     "base_uri": "https://localhost:8080/"
    },
    "executionInfo": {
     "elapsed": 452,
     "status": "ok",
     "timestamp": 1659613516647,
     "user": {
      "displayName": "Abdulaziz Mohammad",
      "userId": "00984729133826365059"
     },
     "user_tz": -330
    },
    "id": "pupt9KvtrEmM",
    "outputId": "f6ae4f11-6532-432d-afed-4e46d179a757"
   },
   "outputs": [
    {
     "data": {
      "text/plain": [
       "1"
      ]
     },
     "execution_count": 26,
     "metadata": {},
     "output_type": "execute_result"
    }
   ],
   "source": [
    "x2[2, 0]"
   ]
  },
  {
   "cell_type": "code",
   "execution_count": 27,
   "metadata": {
    "colab": {
     "base_uri": "https://localhost:8080/"
    },
    "executionInfo": {
     "elapsed": 8,
     "status": "ok",
     "timestamp": 1659613535168,
     "user": {
      "displayName": "Abdulaziz Mohammad",
      "userId": "00984729133826365059"
     },
     "user_tz": -330
    },
    "id": "mwJTL136rM9a",
    "outputId": "e7b57149-adec-42fe-cd50-ca88e02ac50e"
   },
   "outputs": [
    {
     "data": {
      "text/plain": [
       "8"
      ]
     },
     "execution_count": 27,
     "metadata": {},
     "output_type": "execute_result"
    }
   ],
   "source": [
    "x2[2, -1]"
   ]
  },
  {
   "cell_type": "markdown",
   "metadata": {
    "id": "SKI6YtSIrVrD"
   },
   "source": [
    "Values can also be modified using any of the above index notation:"
   ]
  },
  {
   "cell_type": "code",
   "execution_count": 28,
   "metadata": {
    "colab": {
     "base_uri": "https://localhost:8080/"
    },
    "executionInfo": {
     "elapsed": 389,
     "status": "ok",
     "timestamp": 1659613590783,
     "user": {
      "displayName": "Abdulaziz Mohammad",
      "userId": "00984729133826365059"
     },
     "user_tz": -330
    },
    "id": "SGAeOJDvrQWF",
    "outputId": "ae7f0f6d-1283-406c-84b3-57c9e7a2c0b7"
   },
   "outputs": [
    {
     "data": {
      "text/plain": [
       "array([[10,  7,  2,  8],\n",
       "       [ 4,  9,  4,  5],\n",
       "       [ 1,  7,  3,  8],\n",
       "       [ 7,  3,  4,  3],\n",
       "       [ 1,  6,  0,  9]])"
      ]
     },
     "execution_count": 28,
     "metadata": {},
     "output_type": "execute_result"
    }
   ],
   "source": [
    "x2[0, 0] = 10\n",
    "x2"
   ]
  },
  {
   "cell_type": "markdown",
   "metadata": {
    "id": "fjvP84pirnCn"
   },
   "source": [
    "Keep in mind that, unlike Python lists, NumPy arrays have a fixed type.\n",
    "This means, for example, that if you attempt to insert a floating-point value to an integer array, the value will be silently truncated."
   ]
  },
  {
   "cell_type": "code",
   "execution_count": 29,
   "metadata": {},
   "outputs": [
    {
     "data": {
      "text/plain": [
       "array([ 4,  0,  1, 10,  0,  9], dtype=int16)"
      ]
     },
     "execution_count": 29,
     "metadata": {},
     "output_type": "execute_result"
    }
   ],
   "source": [
    "x1"
   ]
  },
  {
   "cell_type": "code",
   "execution_count": 30,
   "metadata": {
    "colab": {
     "base_uri": "https://localhost:8080/"
    },
    "executionInfo": {
     "elapsed": 421,
     "status": "ok",
     "timestamp": 1659613653829,
     "user": {
      "displayName": "Abdulaziz Mohammad",
      "userId": "00984729133826365059"
     },
     "user_tz": -330
    },
    "id": "kUaujxpuroAq",
    "outputId": "c804d9b5-d18f-477e-fb13-02b3ba13e2f9"
   },
   "outputs": [
    {
     "data": {
      "text/plain": [
       "array([ 3,  0,  1, 10,  0,  9], dtype=int16)"
      ]
     },
     "execution_count": 30,
     "metadata": {},
     "output_type": "execute_result"
    }
   ],
   "source": [
    "x1[0] = 3.14159  # this will be truncated!\n",
    "\n",
    "x1"
   ]
  },
  {
   "cell_type": "markdown",
   "metadata": {
    "id": "ALJACDTHsMTZ"
   },
   "source": [
    "#  Array Slicing: Accessing Subarrays"
   ]
  },
  {
   "cell_type": "markdown",
   "metadata": {
    "id": "6XWPbXYpr_U2"
   },
   "source": [
    "Just as we can use square brackets to access individual array elements, we can also use them to access subarrays with the *slice* notation, marked by the colon (``:``) character.\n",
    "The NumPy slicing syntax follows that of the standard Python list; to access a slice of an array ``x``, use this:\n",
    "``` python\n",
    "x[start:stop:step]\n",
    "```\n",
    "If any of these are unspecified, they default to the values ``start=0``, ``stop=``*``size of dimension``*, ``step=1``.\n",
    "We'll take a look at accessing sub-arrays in one dimension and in multiple dimensions."
   ]
  },
  {
   "cell_type": "markdown",
   "metadata": {
    "id": "5XW0Bj6UtpHs"
   },
   "source": [
    "### One-dimensional subarrays"
   ]
  },
  {
   "cell_type": "code",
   "execution_count": 31,
   "metadata": {
    "colab": {
     "base_uri": "https://localhost:8080/"
    },
    "executionInfo": {
     "elapsed": 380,
     "status": "ok",
     "timestamp": 1659614205263,
     "user": {
      "displayName": "Abdulaziz Mohammad",
      "userId": "00984729133826365059"
     },
     "user_tz": -330
    },
    "id": "dxHhG1-PsHe3",
    "outputId": "1d21ea66-9617-428b-fd76-b9f462c9b1a9"
   },
   "outputs": [
    {
     "data": {
      "text/plain": [
       "array([ 0,  1,  2,  3,  4,  5,  6,  7,  8,  9, 10, 11, 12, 13, 14, 15])"
      ]
     },
     "execution_count": 31,
     "metadata": {},
     "output_type": "execute_result"
    }
   ],
   "source": [
    "x = np.arange(16)\n",
    "x"
   ]
  },
  {
   "cell_type": "code",
   "execution_count": 32,
   "metadata": {
    "colab": {
     "base_uri": "https://localhost:8080/"
    },
    "executionInfo": {
     "elapsed": 400,
     "status": "ok",
     "timestamp": 1659614236139,
     "user": {
      "displayName": "Abdulaziz Mohammad",
      "userId": "00984729133826365059"
     },
     "user_tz": -330
    },
    "id": "xFuuM1fht0Ck",
    "outputId": "02a396dc-5b6f-41ce-f513-8d00fc56a172"
   },
   "outputs": [
    {
     "data": {
      "text/plain": [
       "array([0, 1, 2, 3, 4, 5, 6, 7, 8, 9])"
      ]
     },
     "execution_count": 32,
     "metadata": {},
     "output_type": "execute_result"
    }
   ],
   "source": [
    "x[:10]  # first ten elements"
   ]
  },
  {
   "cell_type": "code",
   "execution_count": 33,
   "metadata": {
    "colab": {
     "base_uri": "https://localhost:8080/"
    },
    "executionInfo": {
     "elapsed": 387,
     "status": "ok",
     "timestamp": 1659614277081,
     "user": {
      "displayName": "Abdulaziz Mohammad",
      "userId": "00984729133826365059"
     },
     "user_tz": -330
    },
    "id": "a5WN1zqHt_eG",
    "outputId": "d336df8f-0a55-44e1-b077-9b388dba640b"
   },
   "outputs": [
    {
     "data": {
      "text/plain": [
       "array([10, 11, 12, 13, 14, 15])"
      ]
     },
     "execution_count": 33,
     "metadata": {},
     "output_type": "execute_result"
    }
   ],
   "source": [
    "x[10:]  # elements after index 10 and incuding 10"
   ]
  },
  {
   "cell_type": "code",
   "execution_count": 34,
   "metadata": {
    "colab": {
     "base_uri": "https://localhost:8080/"
    },
    "executionInfo": {
     "elapsed": 403,
     "status": "ok",
     "timestamp": 1659614325811,
     "user": {
      "displayName": "Abdulaziz Mohammad",
      "userId": "00984729133826365059"
     },
     "user_tz": -330
    },
    "id": "aoQdgDxIuK-T",
    "outputId": "b4a6d6a8-2c54-4632-c6fc-8469b2ef736d"
   },
   "outputs": [
    {
     "data": {
      "text/plain": [
       "array([5, 6, 7, 8, 9])"
      ]
     },
     "execution_count": 34,
     "metadata": {},
     "output_type": "execute_result"
    }
   ],
   "source": [
    "x[5:10]  # middle sub-array"
   ]
  },
  {
   "cell_type": "code",
   "execution_count": 35,
   "metadata": {
    "colab": {
     "base_uri": "https://localhost:8080/"
    },
    "executionInfo": {
     "elapsed": 5,
     "status": "ok",
     "timestamp": 1659614353138,
     "user": {
      "displayName": "Abdulaziz Mohammad",
      "userId": "00984729133826365059"
     },
     "user_tz": -330
    },
    "id": "mird9816uUjZ",
    "outputId": "fe133582-f8a7-4f04-cadc-a6a96ce81c77"
   },
   "outputs": [
    {
     "data": {
      "text/plain": [
       "array([ 0,  2,  4,  6,  8, 10, 12, 14])"
      ]
     },
     "execution_count": 35,
     "metadata": {},
     "output_type": "execute_result"
    }
   ],
   "source": [
    "x[::2]  # all elements with step size 2"
   ]
  },
  {
   "cell_type": "code",
   "execution_count": 36,
   "metadata": {
    "colab": {
     "base_uri": "https://localhost:8080/"
    },
    "executionInfo": {
     "elapsed": 383,
     "status": "ok",
     "timestamp": 1659614409185,
     "user": {
      "displayName": "Abdulaziz Mohammad",
      "userId": "00984729133826365059"
     },
     "user_tz": -330
    },
    "id": "CpVLxBEhub7I",
    "outputId": "85f2d93d-e2c4-49a4-da7d-9cb2dd3ead82"
   },
   "outputs": [
    {
     "data": {
      "text/plain": [
       "array([ 1,  3,  5,  7,  9, 11, 13, 15])"
      ]
     },
     "execution_count": 36,
     "metadata": {},
     "output_type": "execute_result"
    }
   ],
   "source": [
    "x[1::2]  # all elements with step size 2, starting at index 1"
   ]
  },
  {
   "cell_type": "code",
   "execution_count": 37,
   "metadata": {
    "colab": {
     "base_uri": "https://localhost:8080/"
    },
    "executionInfo": {
     "elapsed": 410,
     "status": "ok",
     "timestamp": 1659620075343,
     "user": {
      "displayName": "Abdulaziz Mohammad",
      "userId": "00984729133826365059"
     },
     "user_tz": -330
    },
    "id": "5NeM5UHFkXew",
    "outputId": "3fd0469e-246c-441d-8e3f-96ab008cfb6e"
   },
   "outputs": [],
   "source": [
    "\n",
    "# arr = np.arange(0,11)\n",
    "# print(\"Array:\",arr)\n",
    "# print('-' *70)\n",
    "# print(\"Element at 7th index is:\", arr[7])\n",
    "# print('-' *70)\n",
    "# print(\"Elements from 3rd to 5th index are:\", arr[3:6])\n",
    "# print('-' *70)\n",
    "# print(\"Elements up to 4th index are:\", arr[:4])\n",
    "# print('-' *70)\n",
    "# print(\"Elements from last backwards are:\", arr[-1::-1])\n",
    "# print('-' *70)\n",
    "# print(\"3 Elements from last backwards are:\", arr[-1:-6:-2])\n",
    "# print('-' *70)\n",
    "# print('-' *70)\n",
    "\n",
    "# arr2 = np.arange(0,21,2)\n",
    "# print(\"New array:\",arr2)\n",
    "# print(\"Elements at 2nd, 4th, and 9th index are:\", arr2[[2,4,9]]) # Pass a list as a index to subset\n"
   ]
  },
  {
   "cell_type": "markdown",
   "metadata": {
    "id": "n0r_qcmbuz7s"
   },
   "source": [
    "### Multi-dimensional subarrays\n",
    "---\n",
    "Multi-dimensional slices work in the same way, with multiple slices separated by commas.\n",
    "For example:\n",
    "\n",
    "---"
   ]
  },
  {
   "cell_type": "code",
   "execution_count": 38,
   "metadata": {
    "colab": {
     "base_uri": "https://localhost:8080/"
    },
    "executionInfo": {
     "elapsed": 449,
     "status": "ok",
     "timestamp": 1659617852401,
     "user": {
      "displayName": "Abdulaziz Mohammad",
      "userId": "00984729133826365059"
     },
     "user_tz": -330
    },
    "id": "6Z6yFTXnuzk4",
    "outputId": "47daabc7-1a15-4574-b8c7-dacedd2131db"
   },
   "outputs": [
    {
     "data": {
      "text/plain": [
       "array([[10,  7,  2,  8],\n",
       "       [ 4,  9,  4,  5],\n",
       "       [ 1,  7,  3,  8],\n",
       "       [ 7,  3,  4,  3],\n",
       "       [ 1,  6,  0,  9]])"
      ]
     },
     "execution_count": 38,
     "metadata": {},
     "output_type": "execute_result"
    }
   ],
   "source": [
    "x2"
   ]
  },
  {
   "cell_type": "code",
   "execution_count": 39,
   "metadata": {
    "colab": {
     "base_uri": "https://localhost:8080/"
    },
    "executionInfo": {
     "elapsed": 437,
     "status": "ok",
     "timestamp": 1659617867792,
     "user": {
      "displayName": "Abdulaziz Mohammad",
      "userId": "00984729133826365059"
     },
     "user_tz": -330
    },
    "id": "mgAaJpjW7uhZ",
    "outputId": "97876ed1-3487-4a24-dc41-fca2b7d828a2"
   },
   "outputs": [
    {
     "data": {
      "text/plain": [
       "array([[10,  7,  2],\n",
       "       [ 4,  9,  4]])"
      ]
     },
     "execution_count": 39,
     "metadata": {},
     "output_type": "execute_result"
    }
   ],
   "source": [
    "x2[:2, :3]  # two rows, three columns"
   ]
  },
  {
   "cell_type": "code",
   "execution_count": 40,
   "metadata": {
    "colab": {
     "base_uri": "https://localhost:8080/"
    },
    "executionInfo": {
     "elapsed": 13,
     "status": "ok",
     "timestamp": 1659617929389,
     "user": {
      "displayName": "Abdulaziz Mohammad",
      "userId": "00984729133826365059"
     },
     "user_tz": -330
    },
    "id": "F5Oxzc9e79St",
    "outputId": "dcd1e19c-f414-414e-ba57-64a0391f5fb4"
   },
   "outputs": [
    {
     "data": {
      "text/plain": [
       "array([[10,  2],\n",
       "       [ 4,  4],\n",
       "       [ 1,  3]])"
      ]
     },
     "execution_count": 40,
     "metadata": {},
     "output_type": "execute_result"
    }
   ],
   "source": [
    "x2[:3, ::2]  # all rows, every other column"
   ]
  },
  {
   "cell_type": "code",
   "execution_count": 41,
   "metadata": {},
   "outputs": [
    {
     "data": {
      "text/plain": [
       "array([78, 17, 96, 80, 59, 51, 72, 38, 13, 52, 67, 27, 42, 77, 60])"
      ]
     },
     "execution_count": 41,
     "metadata": {},
     "output_type": "execute_result"
    }
   ],
   "source": [
    "np.random.randint(10,100,15)"
   ]
  },
  {
   "cell_type": "code",
   "execution_count": 42,
   "metadata": {
    "colab": {
     "base_uri": "https://localhost:8080/"
    },
    "executionInfo": {
     "elapsed": 517,
     "status": "ok",
     "timestamp": 1659620387831,
     "user": {
      "displayName": "Abdulaziz Mohammad",
      "userId": "00984729133826365059"
     },
     "user_tz": -330
    },
    "id": "_VQb8Jk7kXex",
    "outputId": "7d63fb1f-a3c8-415c-c817-3735cd7dee30"
   },
   "outputs": [
    {
     "name": "stdout",
     "output_type": "stream",
     "text": [
      "Matrix of random 2-digit numbers\n",
      " [[17 92 95 54 56]\n",
      " [20 44 18 99 87]\n",
      " [36 89 84 24 21]]\n"
     ]
    }
   ],
   "source": [
    "mat = np.random.randint(10,100,15).reshape(3,5)\n",
    "print(\"Matrix of random 2-digit numbers\\n\",mat)"
   ]
  },
  {
   "cell_type": "code",
   "execution_count": 43,
   "metadata": {
    "colab": {
     "base_uri": "https://localhost:8080/"
    },
    "executionInfo": {
     "elapsed": 11,
     "status": "ok",
     "timestamp": 1659620391918,
     "user": {
      "displayName": "Abdulaziz Mohammad",
      "userId": "00984729133826365059"
     },
     "user_tz": -330
    },
    "id": "CkkjOpfgFNyn",
    "outputId": "9098a5f3-9f2d-42a5-fa2c-931630a06c03"
   },
   "outputs": [
    {
     "name": "stdout",
     "output_type": "stream",
     "text": [
      "Double bracket indexing\n",
      "\n",
      "Element in row index 1 and column index 2: 18\n",
      "\n",
      "Single bracket with comma indexing\n",
      "\n",
      "Element in row index 1 and column index 2: 18\n",
      "\n",
      "Row or column extract\n",
      "\n",
      "Entire row at index 2: [36 89 84 24 21]\n",
      "Entire column at index 3: [54 99 24]\n"
     ]
    }
   ],
   "source": [
    "print(\"Double bracket indexing\\n\")\n",
    "print(\"Element in row index 1 and column index 2:\", mat[1][2])\n",
    "\n",
    "print(\"\\nSingle bracket with comma indexing\\n\")\n",
    "print(\"Element in row index 1 and column index 2:\", mat[1,2])\n",
    "print(\"\\nRow or column extract\\n\")\n",
    "\n",
    "print(\"Entire row at index 2:\", mat[2])\n",
    "print(\"Entire column at index 3:\", mat[:,3])"
   ]
  },
  {
   "cell_type": "markdown",
   "metadata": {
    "id": "4nYUKeqC8t9y"
   },
   "source": [
    "### Creating copies of arrays\n",
    "\n",
    "Despite the nice features of array views, it is sometimes useful to instead explicitly copy the data within an array or a subarray. This can be most easily done with the ``copy()`` method:"
   ]
  },
  {
   "cell_type": "code",
   "execution_count": 44,
   "metadata": {},
   "outputs": [
    {
     "data": {
      "text/plain": [
       "array([[10,  7,  2,  8],\n",
       "       [ 4,  9,  4,  5],\n",
       "       [ 1,  7,  3,  8],\n",
       "       [ 7,  3,  4,  3],\n",
       "       [ 1,  6,  0,  9]])"
      ]
     },
     "execution_count": 44,
     "metadata": {},
     "output_type": "execute_result"
    }
   ],
   "source": [
    "x2"
   ]
  },
  {
   "cell_type": "code",
   "execution_count": 45,
   "metadata": {
    "colab": {
     "base_uri": "https://localhost:8080/"
    },
    "executionInfo": {
     "elapsed": 447,
     "status": "ok",
     "timestamp": 1659618165087,
     "user": {
      "displayName": "Abdulaziz Mohammad",
      "userId": "00984729133826365059"
     },
     "user_tz": -330
    },
    "id": "L_avIMbH8xu7",
    "outputId": "5062f860-2904-4d39-a023-4b06e9057271"
   },
   "outputs": [
    {
     "name": "stdout",
     "output_type": "stream",
     "text": [
      "[[10  7]\n",
      " [ 4  9]]\n"
     ]
    }
   ],
   "source": [
    "x2_sub_copy = x2[:2, :2].copy()\n",
    "print(x2_sub_copy)"
   ]
  },
  {
   "cell_type": "markdown",
   "metadata": {
    "id": "OZ0_A55Z9CQL"
   },
   "source": [
    "If we now modify this subarray, the original array is not touched:"
   ]
  },
  {
   "cell_type": "code",
   "execution_count": 46,
   "metadata": {
    "colab": {
     "base_uri": "https://localhost:8080/"
    },
    "executionInfo": {
     "elapsed": 10,
     "status": "ok",
     "timestamp": 1659618222729,
     "user": {
      "displayName": "Abdulaziz Mohammad",
      "userId": "00984729133826365059"
     },
     "user_tz": -330
    },
    "id": "ZqQDAnNu9DJG",
    "outputId": "5d432792-01e1-453d-fd02-d2bd73323986"
   },
   "outputs": [
    {
     "name": "stdout",
     "output_type": "stream",
     "text": [
      "[[42  7]\n",
      " [ 4  9]]\n"
     ]
    }
   ],
   "source": [
    "x2_sub_copy[0, 0] = 42\n",
    "print(x2_sub_copy)"
   ]
  },
  {
   "cell_type": "code",
   "execution_count": 47,
   "metadata": {
    "colab": {
     "base_uri": "https://localhost:8080/"
    },
    "executionInfo": {
     "elapsed": 7,
     "status": "ok",
     "timestamp": 1659618241917,
     "user": {
      "displayName": "Abdulaziz Mohammad",
      "userId": "00984729133826365059"
     },
     "user_tz": -330
    },
    "id": "oV1Q9AgU9J3S",
    "outputId": "63873d9d-3906-4fa7-8ebd-11b8b1351292"
   },
   "outputs": [
    {
     "name": "stdout",
     "output_type": "stream",
     "text": [
      "[[10  7  2  8]\n",
      " [ 4  9  4  5]\n",
      " [ 1  7  3  8]\n",
      " [ 7  3  4  3]\n",
      " [ 1  6  0  9]]\n"
     ]
    }
   ],
   "source": [
    "print(x2)"
   ]
  },
  {
   "cell_type": "markdown",
   "metadata": {
    "id": "P5BSz4ACkXej"
   },
   "source": [
    "## Mathematical operations with and on Numpy arrays"
   ]
  },
  {
   "cell_type": "code",
   "execution_count": 48,
   "metadata": {},
   "outputs": [],
   "source": [
    "lst2=[10,11,12,13]\n",
    "array2 = np.array(lst2)"
   ]
  },
  {
   "cell_type": "code",
   "execution_count": 49,
   "metadata": {
    "colab": {
     "base_uri": "https://localhost:8080/"
    },
    "executionInfo": {
     "elapsed": 411,
     "status": "ok",
     "timestamp": 1659618617106,
     "user": {
      "displayName": "Abdulaziz Mohammad",
      "userId": "00984729133826365059"
     },
     "user_tz": -330
    },
    "id": "bluxLFvp-ct8",
    "outputId": "d92def2a-6054-407d-ae26-a336cda97a0d"
   },
   "outputs": [
    {
     "name": "stdout",
     "output_type": "stream",
     "text": [
      "[1 2 3 4]\n",
      "------------------------------\n",
      "[10 11 12 13]\n"
     ]
    }
   ],
   "source": [
    "print(array1)\n",
    "print('-' *30)\n",
    "print(array2)"
   ]
  },
  {
   "cell_type": "code",
   "execution_count": 50,
   "metadata": {
    "colab": {
     "base_uri": "https://localhost:8080/"
    },
    "executionInfo": {
     "elapsed": 694,
     "status": "ok",
     "timestamp": 1659618742765,
     "user": {
      "displayName": "Abdulaziz Mohammad",
      "userId": "00984729133826365059"
     },
     "user_tz": -330
    },
    "id": "nZIhdb6kkXek",
    "outputId": "42be549d-a8c9-49f5-c236-9dba5d0e2921"
   },
   "outputs": [
    {
     "name": "stdout",
     "output_type": "stream",
     "text": [
      "array2 multiplied by array1:  [10 22 36 52]\n",
      "----------------------------------------------------------------------\n",
      "array2 divided by array1:  [10.    5.5   4.    3.25]\n",
      "----------------------------------------------------------------------\n",
      "array2 raised to the power of array1:  [   10   121  1728 28561]\n"
     ]
    }
   ],
   "source": [
    "print(\"array2 multiplied by array1: \",array1*array2)\n",
    "print('-' *70)\n",
    "print(\"array2 divided by array1: \",array2/array1)\n",
    "print('-' *70)\n",
    "print(\"array2 raised to the power of array1: \",array2**array1)"
   ]
  },
  {
   "cell_type": "code",
   "execution_count": 51,
   "metadata": {
    "colab": {
     "base_uri": "https://localhost:8080/"
    },
    "executionInfo": {
     "elapsed": 687,
     "status": "ok",
     "timestamp": 1659618803117,
     "user": {
      "displayName": "Abdulaziz Mohammad",
      "userId": "00984729133826365059"
     },
     "user_tz": -330
    },
    "id": "vT9cJHiakXek",
    "outputId": "5ce58112-ebb5-4733-efd4-9a1f8ae32683"
   },
   "outputs": [
    {
     "name": "stdout",
     "output_type": "stream",
     "text": [
      "Sine:  [ 0.84147098  0.90929743  0.14112001 -0.7568025 ]\n",
      "----------------------------------------------------------------------\n",
      "----------------------------------------------------------------------\n",
      "Natural logarithm:  [0.         0.69314718 1.09861229 1.38629436]\n",
      "Base-10 logarithm:  [0.         0.30103    0.47712125 0.60205999]\n",
      "Base-2 logarithm:  [0.        1.        1.5849625 2.       ]\n",
      "----------------------------------------------------------------------\n",
      "----------------------------------------------------------------------\n",
      "Exponential:  [ 2.71828183  7.3890561  20.08553692 54.59815003]\n"
     ]
    }
   ],
   "source": [
    "# sine function\n",
    "print(\"Sine: \",np.sin(array1))\n",
    "print('-' *70)\n",
    "print('-' *70)\n",
    "# logarithm\n",
    "print(\"Natural logarithm: \",np.log(array1))\n",
    "\n",
    "print(\"Base-10 logarithm: \",np.log10(array1))\n",
    "\n",
    "print(\"Base-2 logarithm: \",np.log2(array1))\n",
    "print('-' *70)\n",
    "print('-' *70)\n",
    "# Exponential\n",
    "print(\"Exponential: \",np.exp(array1))"
   ]
  },
  {
   "cell_type": "markdown",
   "metadata": {
    "id": "pIPqeAq2kXel"
   },
   "source": [
    "## Easy arrays using Numpy\n",
    "* `np.zeros`\n",
    "* `np.ones`\n",
    "* `np.arange`\n",
    "* `np.linspace`"
   ]
  },
  {
   "cell_type": "code",
   "execution_count": 52,
   "metadata": {
    "colab": {
     "base_uri": "https://localhost:8080/"
    },
    "executionInfo": {
     "elapsed": 457,
     "status": "ok",
     "timestamp": 1659618862330,
     "user": {
      "displayName": "Abdulaziz Mohammad",
      "userId": "00984729133826365059"
     },
     "user_tz": -330
    },
    "id": "splOMH7ukXem",
    "outputId": "7823ce2e-4f0d-49fb-fbdd-c03970e0916a"
   },
   "outputs": [
    {
     "name": "stdout",
     "output_type": "stream",
     "text": [
      "A series of zeroes: [0. 0. 0. 0. 0. 0. 0.]\n",
      "----------------------------------------------------------------------\n",
      "A series of ones: [1. 1. 1. 1. 1. 1. 1. 1. 1.]\n",
      "----------------------------------------------------------------------\n",
      "A series of numbers: [ 5  6  7  8  9 10 11 12 13 14 15]\n",
      "----------------------------------------------------------------------\n",
      "Numbers spaced apart by 2: [ 0  2  4  6  8 10]\n",
      "----------------------------------------------------------------------\n",
      "Numbers spaced apart by float: [ 0.   2.5  5.   7.5 10. ]\n",
      "----------------------------------------------------------------------\n",
      "Every 5th number from 30 in reverse order:  [30 25 20 15 10  5  0]\n",
      "----------------------------------------------------------------------\n",
      "11 linearly spaced numbers between 1 and 5:  [1.  1.4 1.8 2.2 2.6 3.  3.4 3.8 4.2 4.6 5. ]\n"
     ]
    }
   ],
   "source": [
    "print(\"A series of zeroes:\",np.zeros(7))\n",
    "print('-' *70)\n",
    "print(\"A series of ones:\",np.ones(9))\n",
    "print('-' *70)\n",
    "print(\"A series of numbers:\",np.arange(5,16))\n",
    "print('-' *70)\n",
    "print(\"Numbers spaced apart by 2:\",np.arange(0,11,2))\n",
    "print('-' *70)\n",
    "print(\"Numbers spaced apart by float:\",np.arange(0,11,2.5))\n",
    "print('-' *70)\n",
    "print(\"Every 5th number from 30 in reverse order: \",np.arange(30,-1,-5))\n",
    "print('-' *70)\n",
    "print(\"11 linearly spaced numbers between 1 and 5: \",np.linspace(1,5,11))"
   ]
  },
  {
   "cell_type": "markdown",
   "metadata": {
    "id": "-WSSq4yzkXeq"
   },
   "source": [
    "## Zeros, Ones, Random, and Identity Matrices and Vectors"
   ]
  },
  {
   "cell_type": "code",
   "execution_count": 53,
   "metadata": {
    "colab": {
     "base_uri": "https://localhost:8080/"
    },
    "executionInfo": {
     "elapsed": 409,
     "status": "ok",
     "timestamp": 1659619267689,
     "user": {
      "displayName": "Abdulaziz Mohammad",
      "userId": "00984729133826365059"
     },
     "user_tz": -330
    },
    "id": "GjI1IuuekXeq",
    "outputId": "8f2e4a83-ae79-499f-e8a4-e650e552e4b7"
   },
   "outputs": [
    {
     "name": "stdout",
     "output_type": "stream",
     "text": [
      "Vector of zeros:\n",
      " [0. 0. 0. 0. 0.]\n",
      "----------------------------------------------------------------------\n",
      "Matrix of zeros:\n",
      " [[0. 0. 0. 0.]\n",
      " [0. 0. 0. 0.]\n",
      " [0. 0. 0. 0.]]\n",
      "----------------------------------------------------------------------\n",
      "Vector of ones:\n",
      " [1. 1. 1. 1.]\n",
      "----------------------------------------------------------------------\n",
      "Matrix of ones:\n",
      " [[1. 1.]\n",
      " [1. 1.]\n",
      " [1. 1.]\n",
      " [1. 1.]]\n",
      "----------------------------------------------------------------------\n",
      "Matrix of 9’s:\n",
      " [[9. 9. 9.]\n",
      " [9. 9. 9.]\n",
      " [9. 9. 9.]]\n",
      "----------------------------------------------------------------------\n",
      "Identity matrix of dimension 2:\n",
      " [[1. 0.]\n",
      " [0. 1.]]\n",
      "----------------------------------------------------------------------\n",
      "Identity matrix of dimension 4:\n",
      " [[1. 0. 0. 0.]\n",
      " [0. 1. 0. 0.]\n",
      " [0. 0. 1. 0.]\n",
      " [0. 0. 0. 1.]]\n"
     ]
    }
   ],
   "source": [
    "print(\"Vector of zeros:\\n\",np.zeros(5))\n",
    "print('-' *70)\n",
    "print(\"Matrix of zeros:\\n\",np.zeros((3,4)))\n",
    "print('-' *70)\n",
    "print(\"Vector of ones:\\n\",np.ones(4))\n",
    "print('-' *70)\n",
    "print(\"Matrix of ones:\\n\",np.ones((4,2)))\n",
    "print('-' *70)\n",
    "print(\"Matrix of 9’s:\\n\",9*np.ones((3,3)))\n",
    "print('-' *70)\n",
    "print(\"Identity matrix of dimension 2:\\n\",np.eye(2))\n",
    "print('-' *70)\n",
    "print(\"Identity matrix of dimension 4:\\n\",np.eye(4))"
   ]
  },
  {
   "cell_type": "markdown",
   "metadata": {
    "id": "An1m7NpFkXez"
   },
   "source": [
    "## Array operations (array-array, array-scalar, universal functions)"
   ]
  },
  {
   "cell_type": "code",
   "execution_count": 54,
   "metadata": {
    "colab": {
     "base_uri": "https://localhost:8080/"
    },
    "executionInfo": {
     "elapsed": 410,
     "status": "ok",
     "timestamp": 1659620521569,
     "user": {
      "displayName": "Abdulaziz Mohammad",
      "userId": "00984729133826365059"
     },
     "user_tz": -330
    },
    "id": "mNy-pc-BkXez",
    "outputId": "0f4f0886-35b3-4ce5-9d7d-9d113f6619c2"
   },
   "outputs": [
    {
     "name": "stdout",
     "output_type": "stream",
     "text": [
      "\n",
      "1st Matrix of random single-digit numbers\n",
      " [[9 7 1]\n",
      " [9 1 3]\n",
      " [1 6 2]]\n",
      "\n",
      "2nd Matrix of random single-digit numbers\n",
      " [[8 7 3]\n",
      " [8 2 2]\n",
      " [4 8 2]]\n"
     ]
    }
   ],
   "source": [
    "mat1 = np.random.randint(1,10,9).reshape(3,3)\n",
    "mat2 = np.random.randint(1,10,9).reshape(3,3)\n",
    "print(\"\\n1st Matrix of random single-digit numbers\\n\",mat1)\n",
    "print(\"\\n2nd Matrix of random single-digit numbers\\n\",mat2)"
   ]
  },
  {
   "cell_type": "code",
   "execution_count": 55,
   "metadata": {
    "colab": {
     "base_uri": "https://localhost:8080/"
    },
    "executionInfo": {
     "elapsed": 416,
     "status": "ok",
     "timestamp": 1659620553455,
     "user": {
      "displayName": "Abdulaziz Mohammad",
      "userId": "00984729133826365059"
     },
     "user_tz": -330
    },
    "id": "Ni7JsZ7-F2N_",
    "outputId": "475b91a9-56d2-46e0-9cee-5ca146fce93f"
   },
   "outputs": [
    {
     "name": "stdout",
     "output_type": "stream",
     "text": [
      "\n",
      "Addition\n",
      " [[17 14  4]\n",
      " [17  3  5]\n",
      " [ 5 14  4]]\n",
      "\n",
      "Multiplication\n",
      " [[72 49  3]\n",
      " [72  2  6]\n",
      " [ 4 48  4]]\n",
      "\n",
      "Division\n",
      " [[1.125      1.         0.33333333]\n",
      " [1.125      0.5        1.5       ]\n",
      " [0.25       0.75       1.        ]]\n",
      "\n",
      "Lineaer combination: 3*A - 2*B\n",
      " [[11  7 -3]\n",
      " [11 -1  5]\n",
      " [-5  2  2]]\n",
      "\n",
      "Addition of a scalar (100)\n",
      " [[109 107 101]\n",
      " [109 101 103]\n",
      " [101 106 102]]\n",
      "\n",
      "Exponentiation, matrix cubed here\n",
      " [[729 343   1]\n",
      " [729   1  27]\n",
      " [  1 216   8]]\n",
      "\n",
      "Exponentiation, sq-root using pow function\n",
      " [[3.         2.64575131 1.        ]\n",
      " [3.         1.         1.73205081]\n",
      " [1.         2.44948974 1.41421356]]\n"
     ]
    }
   ],
   "source": [
    "print(\"\\nAddition\\n\", mat1+mat2)\n",
    "print(\"\\nMultiplication\\n\", mat1*mat2)\n",
    "print(\"\\nDivision\\n\", mat1/mat2)\n",
    "print(\"\\nLineaer combination: 3*A - 2*B\\n\", 3*mat1-2*mat2)\n",
    "\n",
    "print(\"\\nAddition of a scalar (100)\\n\", 100+mat1)\n",
    "\n",
    "print(\"\\nExponentiation, matrix cubed here\\n\", mat1**3)\n",
    "print(\"\\nExponentiation, sq-root using pow function\\n\",pow(mat1,0.5))"
   ]
  },
  {
   "cell_type": "markdown",
   "metadata": {
    "id": "aMGLXzM4JFJq"
   },
   "source": [
    "### Array Broadcasting\n",
    "\n",
    "Numpy arrays also support *broadcasting*, allowing arithmetic operations between two arrays with different numbers of dimensions but compatible shapes. Let's look at an example to see how it works."
   ]
  },
  {
   "cell_type": "code",
   "execution_count": 56,
   "metadata": {
    "executionInfo": {
     "elapsed": 398,
     "status": "ok",
     "timestamp": 1659621841368,
     "user": {
      "displayName": "Abdulaziz Mohammad",
      "userId": "00984729133826365059"
     },
     "user_tz": -330
    },
    "id": "EYozaQtiK4Wu"
   },
   "outputs": [],
   "source": [
    "arr2 = np.array([[1, 2, 3, 4], \n",
    "                 [5, 6, 7, 8], \n",
    "                 [9, 1, 2, 3]])"
   ]
  },
  {
   "cell_type": "code",
   "execution_count": 57,
   "metadata": {
    "colab": {
     "base_uri": "https://localhost:8080/"
    },
    "executionInfo": {
     "elapsed": 8,
     "status": "ok",
     "timestamp": 1659621851072,
     "user": {
      "displayName": "Abdulaziz Mohammad",
      "userId": "00984729133826365059"
     },
     "user_tz": -330
    },
    "id": "reJBN8LSJE2i",
    "outputId": "79b74a35-68f9-4f06-8071-3ad1de03361c"
   },
   "outputs": [
    {
     "data": {
      "text/plain": [
       "(3, 4)"
      ]
     },
     "execution_count": 57,
     "metadata": {},
     "output_type": "execute_result"
    }
   ],
   "source": [
    "arr2.shape"
   ]
  },
  {
   "cell_type": "code",
   "execution_count": 58,
   "metadata": {
    "executionInfo": {
     "elapsed": 442,
     "status": "ok",
     "timestamp": 1659621861488,
     "user": {
      "displayName": "Abdulaziz Mohammad",
      "userId": "00984729133826365059"
     },
     "user_tz": -330
    },
    "id": "mulHMsC-K9pP"
   },
   "outputs": [],
   "source": [
    "arr4 = np.array([4, 5, 6, 7])"
   ]
  },
  {
   "cell_type": "code",
   "execution_count": 59,
   "metadata": {
    "colab": {
     "base_uri": "https://localhost:8080/"
    },
    "executionInfo": {
     "elapsed": 400,
     "status": "ok",
     "timestamp": 1659621876983,
     "user": {
      "displayName": "Abdulaziz Mohammad",
      "userId": "00984729133826365059"
     },
     "user_tz": -330
    },
    "id": "lTcfzmdPLBgP",
    "outputId": "ed038d92-6c4d-4b95-a97c-08bb8612a0f5"
   },
   "outputs": [
    {
     "data": {
      "text/plain": [
       "(4,)"
      ]
     },
     "execution_count": 59,
     "metadata": {},
     "output_type": "execute_result"
    }
   ],
   "source": [
    "arr4.shape"
   ]
  },
  {
   "cell_type": "code",
   "execution_count": 60,
   "metadata": {
    "colab": {
     "base_uri": "https://localhost:8080/"
    },
    "executionInfo": {
     "elapsed": 7,
     "status": "ok",
     "timestamp": 1659621886813,
     "user": {
      "displayName": "Abdulaziz Mohammad",
      "userId": "00984729133826365059"
     },
     "user_tz": -330
    },
    "id": "OiRpxc_iLEDD",
    "outputId": "3ae933ff-1928-4924-c1de-15c5fdf0809e"
   },
   "outputs": [
    {
     "data": {
      "text/plain": [
       "array([[ 5,  7,  9, 11],\n",
       "       [ 9, 11, 13, 15],\n",
       "       [13,  6,  8, 10]])"
      ]
     },
     "execution_count": 60,
     "metadata": {},
     "output_type": "execute_result"
    }
   ],
   "source": [
    "arr2 + arr4"
   ]
  },
  {
   "cell_type": "markdown",
   "metadata": {
    "id": "4fbZ0GGyLHmA"
   },
   "source": [
    "When the expression `arr2 + arr4` is evaluated, `arr4` (which has the shape `(4,)`) is replicated three times to match the shape `(3, 4)` of `arr2`. Numpy performs the replication without actually creating three copies of the smaller dimension array, thus improving performance and using lower memory.\n",
    "\n",
    "\n",
    "Broadcasting only works if one of the arrays can be replicated to match the other array's shape."
   ]
  },
  {
   "cell_type": "code",
   "execution_count": 61,
   "metadata": {
    "executionInfo": {
     "elapsed": 6,
     "status": "ok",
     "timestamp": 1659622121647,
     "user": {
      "displayName": "Abdulaziz Mohammad",
      "userId": "00984729133826365059"
     },
     "user_tz": -330
    },
    "id": "3ovVF2cMLke-"
   },
   "outputs": [],
   "source": [
    "arr5 = np.array([7, 8])"
   ]
  },
  {
   "cell_type": "code",
   "execution_count": 62,
   "metadata": {
    "colab": {
     "base_uri": "https://localhost:8080/"
    },
    "executionInfo": {
     "elapsed": 8,
     "status": "ok",
     "timestamp": 1659622124426,
     "user": {
      "displayName": "Abdulaziz Mohammad",
      "userId": "00984729133826365059"
     },
     "user_tz": -330
    },
    "id": "ZwdHvKDvLm2q",
    "outputId": "036e2f6a-6774-4c1f-df8d-b2bbbd0734ea"
   },
   "outputs": [
    {
     "data": {
      "text/plain": [
       "(2,)"
      ]
     },
     "execution_count": 62,
     "metadata": {},
     "output_type": "execute_result"
    }
   ],
   "source": [
    "arr5.shape"
   ]
  },
  {
   "cell_type": "code",
   "execution_count": 63,
   "metadata": {
    "colab": {
     "base_uri": "https://localhost:8080/",
     "height": 165
    },
    "executionInfo": {
     "elapsed": 413,
     "status": "error",
     "timestamp": 1659622127230,
     "user": {
      "displayName": "Abdulaziz Mohammad",
      "userId": "00984729133826365059"
     },
     "user_tz": -330
    },
    "id": "luoYmIeILpxc",
    "outputId": "0feda002-d626-4cbe-cb3b-cd743b95b5c0"
   },
   "outputs": [
    {
     "ename": "ValueError",
     "evalue": "operands could not be broadcast together with shapes (3,4) (2,) ",
     "output_type": "error",
     "traceback": [
      "\u001b[1;31m---------------------------------------------------------------------------\u001b[0m",
      "\u001b[1;31mValueError\u001b[0m                                Traceback (most recent call last)",
      "Cell \u001b[1;32mIn[63], line 1\u001b[0m\n\u001b[1;32m----> 1\u001b[0m \u001b[43marr2\u001b[49m\u001b[43m \u001b[49m\u001b[38;5;241;43m+\u001b[39;49m\u001b[43m \u001b[49m\u001b[43marr5\u001b[49m\n",
      "\u001b[1;31mValueError\u001b[0m: operands could not be broadcast together with shapes (3,4) (2,) "
     ]
    }
   ],
   "source": [
    "arr2 + arr5"
   ]
  },
  {
   "cell_type": "markdown",
   "metadata": {
    "id": "7etRIWssMBzf"
   },
   "source": [
    "In the above example, even if `arr5` is replicated three times, it will not match the shape of `arr2`. Hence `arr2 + arr5` cannot be evaluated successfully. Learn more about broadcasting here: https://numpy.org/doc/stable/user/basics.broadcasting.html ."
   ]
  },
  {
   "cell_type": "markdown",
   "metadata": {
    "id": "cTtuuUMcMHc-"
   },
   "source": [
    "### Array Comparison\n",
    "\n",
    "Numpy arrays also support comparison operations like `==`, `!=`, `>` etc. The result is an array of booleans."
   ]
  },
  {
   "cell_type": "code",
   "execution_count": null,
   "metadata": {
    "executionInfo": {
     "elapsed": 519,
     "status": "ok",
     "timestamp": 1659622174919,
     "user": {
      "displayName": "Abdulaziz Mohammad",
      "userId": "00984729133826365059"
     },
     "user_tz": -330
    },
    "id": "FBNBewvxMGu6"
   },
   "outputs": [],
   "source": [
    "arr1 = np.array([[1, 2, 3], [3, 4, 5]])\n",
    "arr2 = np.array([[2, 2, 3], [1, 2, 5]])"
   ]
  },
  {
   "cell_type": "code",
   "execution_count": null,
   "metadata": {
    "colab": {
     "base_uri": "https://localhost:8080/"
    },
    "executionInfo": {
     "elapsed": 391,
     "status": "ok",
     "timestamp": 1659622271949,
     "user": {
      "displayName": "Abdulaziz Mohammad",
      "userId": "00984729133826365059"
     },
     "user_tz": -330
    },
    "id": "R8O_KYM_MakE",
    "outputId": "141a3e96-ec27-493e-98f1-3e15aaaa7fed"
   },
   "outputs": [],
   "source": [
    "print(arr1)\n",
    "print('-' * 30)\n",
    "print(arr2)"
   ]
  },
  {
   "cell_type": "code",
   "execution_count": null,
   "metadata": {
    "colab": {
     "base_uri": "https://localhost:8080/"
    },
    "executionInfo": {
     "elapsed": 412,
     "status": "ok",
     "timestamp": 1659622184453,
     "user": {
      "displayName": "Abdulaziz Mohammad",
      "userId": "00984729133826365059"
     },
     "user_tz": -330
    },
    "id": "k8r93khGMMpU",
    "outputId": "00b54b70-2a56-4542-9839-892ab87534b0"
   },
   "outputs": [],
   "source": [
    "arr1 == arr2"
   ]
  },
  {
   "cell_type": "code",
   "execution_count": null,
   "metadata": {
    "colab": {
     "base_uri": "https://localhost:8080/"
    },
    "executionInfo": {
     "elapsed": 413,
     "status": "ok",
     "timestamp": 1659622201159,
     "user": {
      "displayName": "Abdulaziz Mohammad",
      "userId": "00984729133826365059"
     },
     "user_tz": -330
    },
    "id": "AXcYTCG6MQr7",
    "outputId": "dd46eb3c-5d6f-4f94-d18c-4b2f295cf5db"
   },
   "outputs": [],
   "source": [
    "arr1 != arr2"
   ]
  },
  {
   "cell_type": "code",
   "execution_count": null,
   "metadata": {
    "colab": {
     "base_uri": "https://localhost:8080/"
    },
    "executionInfo": {
     "elapsed": 410,
     "status": "ok",
     "timestamp": 1659622212424,
     "user": {
      "displayName": "Abdulaziz Mohammad",
      "userId": "00984729133826365059"
     },
     "user_tz": -330
    },
    "id": "wrA6gTCcMTb2",
    "outputId": "b508377f-cad3-44f7-d7af-c283f3964769"
   },
   "outputs": [],
   "source": [
    "arr1 >= arr2"
   ]
  },
  {
   "cell_type": "code",
   "execution_count": null,
   "metadata": {
    "colab": {
     "base_uri": "https://localhost:8080/"
    },
    "executionInfo": {
     "elapsed": 402,
     "status": "ok",
     "timestamp": 1659622227137,
     "user": {
      "displayName": "Abdulaziz Mohammad",
      "userId": "00984729133826365059"
     },
     "user_tz": -330
    },
    "id": "dNFTdpq9MXA0",
    "outputId": "c533a10d-2f63-4eb5-d198-b456be46b7ef"
   },
   "outputs": [],
   "source": [
    "arr1 < arr2"
   ]
  },
  {
   "cell_type": "markdown",
   "metadata": {
    "id": "X8VwV8sdPLDu"
   },
   "source": [
    "## np.transpose (np.T)\n",
    "\n",
    "It performs transpose of a matrix."
   ]
  },
  {
   "cell_type": "code",
   "execution_count": null,
   "metadata": {
    "colab": {
     "base_uri": "https://localhost:8080/"
    },
    "executionInfo": {
     "elapsed": 802,
     "status": "ok",
     "timestamp": 1659622982172,
     "user": {
      "displayName": "Abdulaziz Mohammad",
      "userId": "00984729133826365059"
     },
     "user_tz": -330
    },
    "id": "a6chrPmUPPMB",
    "outputId": "0ee8ef08-6ad0-4cfd-a9eb-d0ac89f7fa10"
   },
   "outputs": [],
   "source": [
    "# Example 1 - working (change this)\n",
    "arr1 = [[1, 2, 3], \n",
    "        [3, 4.,5]]\n",
    "\n",
    "np.transpose(arr1)"
   ]
  },
  {
   "cell_type": "markdown",
   "metadata": {
    "id": "HIqsnIOUPaJe"
   },
   "source": [
    "arr1 is  given matrix of order `2 X 3`. Output of transpose(arr1) is a matrix of order `3 X 2`. Same can be achieved by `arr1.T` . But, here we need to convert arr1 as `np.arraay` then apply `.T` to get result."
   ]
  },
  {
   "cell_type": "code",
   "execution_count": null,
   "metadata": {
    "colab": {
     "base_uri": "https://localhost:8080/"
    },
    "executionInfo": {
     "elapsed": 423,
     "status": "ok",
     "timestamp": 1659623108828,
     "user": {
      "displayName": "Abdulaziz Mohammad",
      "userId": "00984729133826365059"
     },
     "user_tz": -330
    },
    "id": "NYDEL8n8PuJV",
    "outputId": "c5960ad4-75f3-4904-ceb2-08a71d229373"
   },
   "outputs": [],
   "source": [
    "np.array(arr1).T"
   ]
  },
  {
   "cell_type": "markdown",
   "metadata": {
    "id": "oaR_v7L6RSSg"
   },
   "source": [
    "##  np.polyder\n",
    "\n",
    "The `numpy.polyder()` method evaluates the derivative of a polynomial with specified order.\n",
    "\n",
    "* Syntax : `numpy.polyder(p, m)`\n",
    "\n",
    "###### Parameters :\n",
    "p : The polynomial coefficients are given in decreasing order of powers. If the second parameter (root) is set to True then array values are the roots of the polynomial equation.\n",
    "\n",
    "m : Order of differentiation.\n",
    "\n",
    "Return: Derivative of polynomial."
   ]
  },
  {
   "cell_type": "code",
   "execution_count": null,
   "metadata": {
    "colab": {
     "base_uri": "https://localhost:8080/"
    },
    "executionInfo": {
     "elapsed": 456,
     "status": "ok",
     "timestamp": 1659623562354,
     "user": {
      "displayName": "Abdulaziz Mohammad",
      "userId": "00984729133826365059"
     },
     "user_tz": -330
    },
    "id": "vb5fJ-opRco_",
    "outputId": "4fac606c-5cdc-400e-ff1e-b4f9a6502e3c"
   },
   "outputs": [],
   "source": [
    "\n",
    "# Constructing polynomial \n",
    "poly1 = np.poly1d([2, 3, 4]) # this method prints polynomial\n",
    "poly2 = np.poly1d([4, 9, 5, 4, 5]) \n",
    "    \n",
    "print (\"Poly1  : \\n\\n\", poly1) \n",
    "print (\"\\n Poly2 : \\n\\n\", poly2) "
   ]
  },
  {
   "cell_type": "code",
   "execution_count": null,
   "metadata": {
    "colab": {
     "base_uri": "https://localhost:8080/"
    },
    "executionInfo": {
     "elapsed": 8,
     "status": "ok",
     "timestamp": 1659623595334,
     "user": {
      "displayName": "Abdulaziz Mohammad",
      "userId": "00984729133826365059"
     },
     "user_tz": -330
    },
    "id": "vMShZB_hRjDb",
    "outputId": "1e57f117-6c80-48d7-8f09-c53481c5d3de"
   },
   "outputs": [],
   "source": [
    "a = np.polyder(poly1, 1)\n",
    "print (\"\\nUsing polyder\")\n",
    "print (\"Poly1 derivative of order = 1 : \\n\", a) "
   ]
  },
  {
   "cell_type": "code",
   "execution_count": null,
   "metadata": {
    "colab": {
     "base_uri": "https://localhost:8080/"
    },
    "executionInfo": {
     "elapsed": 403,
     "status": "ok",
     "timestamp": 1659623620711,
     "user": {
      "displayName": "Abdulaziz Mohammad",
      "userId": "00984729133826365059"
     },
     "user_tz": -330
    },
    "id": "zRMLJirYRrDf",
    "outputId": "fc0c83c9-498f-4fe7-bfb6-6a0c03a4d47b"
   },
   "outputs": [],
   "source": [
    "\n",
    "b = np.polyder(poly2, 2)\n",
    "print (\"Poly2 derivative of order = 2 : \\n\", b) "
   ]
  },
  {
   "cell_type": "markdown",
   "metadata": {
    "id": "MAC7AGZPTJI4"
   },
   "source": [
    "## np.intersect1d()\n",
    "\n",
    "To find only the values that are present in both arrays, use the `intersect1d()` method."
   ]
  },
  {
   "cell_type": "code",
   "execution_count": null,
   "metadata": {
    "colab": {
     "base_uri": "https://localhost:8080/"
    },
    "executionInfo": {
     "elapsed": 10,
     "status": "ok",
     "timestamp": 1659624152587,
     "user": {
      "displayName": "Abdulaziz Mohammad",
      "userId": "00984729133826365059"
     },
     "user_tz": -330
    },
    "id": "p1v83NjPTRZY",
    "outputId": "60d42b5a-2e33-49f8-c1dd-ee0d543d29db"
   },
   "outputs": [],
   "source": [
    "\n",
    "arr1 = np.array([1, 2, 3,4])\n",
    "arr2 = np.array([3, 4, 5, 6])\n",
    "\n",
    "newarr = np.intersect1d(arr1, arr2)\n",
    "\n",
    "print(newarr)"
   ]
  },
  {
   "cell_type": "code",
   "execution_count": null,
   "metadata": {
    "colab": {
     "base_uri": "https://localhost:8080/"
    },
    "executionInfo": {
     "elapsed": 7,
     "status": "ok",
     "timestamp": 1659624174012,
     "user": {
      "displayName": "Abdulaziz Mohammad",
      "userId": "00984729133826365059"
     },
     "user_tz": -330
    },
    "id": "9c0TaDn6TxSV",
    "outputId": "cbcae6c2-44c5-4197-bfee-69e0bfb1eb22"
   },
   "outputs": [],
   "source": [
    "\n",
    "arr1 = np.array([1, 2])\n",
    "arr2 = np.array([3, 4, 5, 6])\n",
    "\n",
    "newarr = np.intersect1d(arr1, arr2)\n",
    "\n",
    "print(newarr)"
   ]
  },
  {
   "cell_type": "markdown",
   "metadata": {
    "id": "XUSR4eMaUssu"
   },
   "source": [
    "# References\n",
    "* https://github.com/donnemartin/data-science-ipython-notebooks/tree/master/numpy\n",
    "\n",
    "* [A Visual Intro to NumPy and Data Representation](http://jalammar.github.io/visual-numpy/)\n",
    "\n",
    "* [NumPy documentation](https://numpy.org/doc/stable/index.html)"
   ]
  },
  {
   "cell_type": "markdown",
   "metadata": {},
   "source": [
    "<center><h1> Happy Learning 😊"
   ]
  }
 ],
 "metadata": {
  "colab": {
   "name": "Practical2_Numpy_Basics.ipynb",
   "provenance": []
  },
  "kernelspec": {
   "display_name": "Python 3 (ipykernel)",
   "language": "python",
   "name": "python3"
  },
  "language_info": {
   "codemirror_mode": {
    "name": "ipython",
    "version": 3
   },
   "file_extension": ".py",
   "mimetype": "text/x-python",
   "name": "python",
   "nbconvert_exporter": "python",
   "pygments_lexer": "ipython3",
   "version": "3.11.1"
  }
 },
 "nbformat": 4,
 "nbformat_minor": 1
}
