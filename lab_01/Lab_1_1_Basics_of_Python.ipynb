{
 "cells": [
  {
   "cell_type": "markdown",
   "metadata": {},
   "source": [
    "# Lab_1_1_basics_of_python\n",
    "\n",
    "\n",
    "## *Aim* : To understand basics of Python . \n",
    "\n",
    "# Completed By\n",
    "Student Name : Dr. Atul Kumar Dwivedi\n",
    "\n",
    "Roll Number :\n",
    "\n",
    "Branch : Electronics and Communication Engineering\n",
    "\n",
    "Semester : 4\n",
    "\n",
    "Lab: Signals and Systems (BEC 451)\n",
    "\n",
    "Date of Completion ......."
   ]
  },
  {
   "cell_type": "markdown",
   "metadata": {},
   "source": [
    "## Jupyter\n",
    "If you have already installed Python. then install jupyter using \n",
    "\n",
    "python -m pip install --upgrade pip\r\n",
    "\n",
    "pytho3 -m pip install jupyte\n",
    "\n",
    "## Open Jupyter\n",
    "\n",
    "Open cmd.\n",
    "\n",
    "u Type: **jupyter notebook** if - ys shows an error\n",
    "then\n",
    "So, Type: python -m notebook.r"
   ]
  },
  {
   "cell_type": "markdown",
   "metadata": {},
   "source": [
    "## Importing libraries"
   ]
  },
  {
   "cell_type": "code",
   "execution_count": 1,
   "metadata": {},
   "outputs": [
    {
     "name": "stdout",
     "output_type": "stream",
     "text": [
      "The Zen of Python, by Tim Peters\n",
      "\n",
      "Beautiful is better than ugly.\n",
      "Explicit is better than implicit.\n",
      "Simple is better than complex.\n",
      "Complex is better than complicated.\n",
      "Flat is better than nested.\n",
      "Sparse is better than dense.\n",
      "Readability counts.\n",
      "Special cases aren't special enough to break the rules.\n",
      "Although practicality beats purity.\n",
      "Errors should never pass silently.\n",
      "Unless explicitly silenced.\n",
      "In the face of ambiguity, refuse the temptation to guess.\n",
      "There should be one-- and preferably only one --obvious way to do it.\n",
      "Although that way may not be obvious at first unless you're Dutch.\n",
      "Now is better than never.\n",
      "Although never is often better than *right* now.\n",
      "If the implementation is hard to explain, it's a bad idea.\n",
      "If the implementation is easy to explain, it may be a good idea.\n",
      "Namespaces are one honking great idea -- let's do more of those!\n"
     ]
    }
   ],
   "source": [
    "# The essential of Python is to import libraries for example\n",
    "import this"
   ]
  },
  {
   "cell_type": "code",
   "execution_count": 2,
   "metadata": {
    "scrolled": true
   },
   "outputs": [
    {
     "data": {
      "text/plain": [
       "' This is a multiline comment\\n    pretty awesome!!\\n    Let me introduce you to Signals and Systems!'"
      ]
     },
     "execution_count": 2,
     "metadata": {},
     "output_type": "execute_result"
    }
   ],
   "source": [
    "# Comments\n",
    "# This is a python tutorial and a single line comment\n",
    "''' This is a multiline comment\n",
    "    pretty awesome!!\n",
    "    Let me introduce you to Signals and Systems!'''"
   ]
  },
  {
   "cell_type": "code",
   "execution_count": 3,
   "metadata": {},
   "outputs": [],
   "source": [
    "# Simple imports\n",
    "import math\n",
    "import random"
   ]
  },
  {
   "cell_type": "code",
   "execution_count": 4,
   "metadata": {},
   "outputs": [],
   "source": [
    "# importing specific functions from modules\n",
    "# imports just the factorial function from math\n",
    "from math import factorial\n",
    "\n",
    "# imports all the functions from math\n",
    "from math import *"
   ]
  },
  {
   "cell_type": "code",
   "execution_count": 5,
   "metadata": {},
   "outputs": [],
   "source": [
    "# Giving aliases\n",
    "# The Module name is alaised\n",
    "import math as m\n",
    "\n",
    "# The function name is alaised\n",
    "from math import factorial as fact"
   ]
  },
  {
   "cell_type": "code",
   "execution_count": 6,
   "metadata": {},
   "outputs": [
    {
     "name": "stdout",
     "output_type": "stream",
     "text": [
      "479001600\n",
      "557\n"
     ]
    }
   ],
   "source": [
    "# Calling imported functions\n",
    "# If you import the module you have to call the functions from the module\n",
    "import math\n",
    "print (math.factorial(12))\n",
    "\n",
    "# If you import the functions you can call the function as if it is in your program\n",
    "from random import randrange as rg\n",
    "print (rg(23, 1000))"
   ]
  },
  {
   "cell_type": "code",
   "execution_count": 7,
   "metadata": {},
   "outputs": [],
   "source": [
    "# Variables\n",
    "msg = \"Python!\"  # String\n",
    "v2 = 'Python!'   # Also String works same\n",
    "v1 = 2           # Numbers\n",
    "v3 = 3.564       # Floats / Doubles\n",
    "v4 = True        # Boolean (True / False)"
   ]
  },
  {
   "cell_type": "code",
   "execution_count": 8,
   "metadata": {
    "scrolled": true
   },
   "outputs": [
    {
     "name": "stdout",
     "output_type": "stream",
     "text": [
      "Python!\n",
      "Python!\n",
      "2\n",
      "3.564\n",
      "True\n",
      "Hello Python!\n"
     ]
    }
   ],
   "source": [
    "# print() \n",
    "# automatically adds a newline\n",
    "print (msg)\n",
    "print (v2)\n",
    "print (v1)\n",
    "print (v3)\n",
    "print (v4)\n",
    "print (\"Hello Python!\")"
   ]
  },
  {
   "cell_type": "code",
   "execution_count": 9,
   "metadata": {},
   "outputs": [
    {
     "name": "stdout",
     "output_type": "stream",
     "text": [
      "Dr. Atul said, \"I love Python!\"\n",
      "After that Atul's Python Interpreter said it back to him!\n",
      "Of Course she used the command `print(\"I love Signals and Systems\")`\n"
     ]
    }
   ],
   "source": [
    "# Note: Both \" and ' can be used to make strings. And this flexibility allows for the following:\n",
    "\n",
    "msg2 = 'Dr. Atul said, \"I love Python!\"'\n",
    "msg3 = \"After that Atul's Python Interpreter said it back to him!\"\n",
    "msg4 = 'Of Course she used the command `print(\"I love Signals and Systems\")`'\n",
    "\n",
    "print (msg2)\n",
    "print (msg3)\n",
    "print (msg4)"
   ]
  },
  {
   "cell_type": "code",
   "execution_count": 10,
   "metadata": {},
   "outputs": [
    {
     "name": "stdin",
     "output_type": "stream",
     "text": [
      " Atul\n"
     ]
    }
   ],
   "source": [
    "# input()\n",
    "msg = input()"
   ]
  },
  {
   "cell_type": "code",
   "execution_count": 11,
   "metadata": {},
   "outputs": [
    {
     "name": "stdin",
     "output_type": "stream",
     "text": [
      "Provide some input:  Atul\n"
     ]
    },
    {
     "name": "stdout",
     "output_type": "stream",
     "text": [
      "Atul\n"
     ]
    }
   ],
   "source": [
    "# input() with message\n",
    "msg = input (\"Provide some input: \")\n",
    "print (msg)"
   ]
  },
  {
   "cell_type": "code",
   "execution_count": 13,
   "metadata": {},
   "outputs": [
    {
     "name": "stdin",
     "output_type": "stream",
     "text": [
      "Enter a number:  Atul\n"
     ]
    },
    {
     "name": "stdout",
     "output_type": "stream",
     "text": [
      "<class 'str'>\n"
     ]
    },
    {
     "name": "stdin",
     "output_type": "stream",
     "text": [
      "Enter a number again, if not a number this will throw an error:  2\n"
     ]
    },
    {
     "name": "stdout",
     "output_type": "stream",
     "text": [
      "<class 'int'>\n"
     ]
    }
   ],
   "source": [
    "# Python takes every input as a string\n",
    "# So, if required you can convert to the required type\n",
    "msg = input(\"Enter a number: \")\n",
    "print (type(msg))\n",
    "\n",
    "msg = int(input (\"Enter a number again, if not a number this will throw an error: \"))\n",
    "print (type(msg))"
   ]
  },
  {
   "cell_type": "code",
   "execution_count": 14,
   "metadata": {},
   "outputs": [
    {
     "name": "stdout",
     "output_type": "stream",
     "text": [
      "5\n",
      "59.6885\n",
      "------------\n",
      "-1\n",
      "30.78\n",
      "------------\n",
      "12\n",
      "257.03999999999996\n",
      "------------\n",
      "2.5\n",
      "2.5\n",
      "2.5\n",
      "5.0\n",
      "------------\n",
      "256\n",
      "182.28426299999998\n",
      "------------\n",
      "1\n",
      "10\n"
     ]
    }
   ],
   "source": [
    "# Basic Arithmetic operations\n",
    "# Add\n",
    "print (3 + 2)\n",
    "print (3.4565 + 56.232)\n",
    "print ('------------')\n",
    "\n",
    "# Subtract\n",
    "print (3 - 4)\n",
    "print (34.56 - 3.78)\n",
    "print ('------------')\n",
    "\n",
    "# Multiply\n",
    "print (4 * 3)\n",
    "print (7.56 * 34)\n",
    "print ('------------')\n",
    "\n",
    "# Division\n",
    "print (5 / 2)\n",
    "print (5.0 / 2)\n",
    "print (5 / 2.0)\n",
    "print (25.0 / 5)\n",
    "print ('------------')\n",
    "\n",
    "# Exponents\n",
    "print (4 ** 4)\n",
    "print (5.67 ** 3)\n",
    "print ('------------')\n",
    "\n",
    "# Modulo\n",
    "print (10%3)\n",
    "print (10%11)"
   ]
  },
  {
   "cell_type": "markdown",
   "metadata": {},
   "source": [
    "### Practice 1.1 : Find average Marks\r\n",
    "#Write a program to input marks of three tests of a student (all integers). Then calculate and print the average of a\n",
    "\n",
    "### Practice 1.2  Find X raised to power N\n",
    "\n",
    "### Practice 1.3 Calculate area of a rectangle\r\n",
    "\r",
    "t(res)ll"
   ]
  },
  {
   "cell_type": "code",
   "execution_count": 16,
   "metadata": {},
   "outputs": [
    {
     "name": "stdin",
     "output_type": "stream",
     "text": [
      " 1\n",
      " 2\n",
      " 3\n"
     ]
    },
    {
     "name": "stdout",
     "output_type": "stream",
     "text": [
      "2.0\n"
     ]
    }
   ],
   "source": [
    "#prog prac 1.1\n",
    "# Read input as sepcified in the question\n",
    "# Print output as specified in the question\n",
    "test1=int(input())\n",
    "test2=int(input())\n",
    "test3=int(input())\n",
    "average=(test1+test2+test3)/3\n",
    "print(average)"
   ]
  },
  {
   "cell_type": "code",
   "execution_count": 17,
   "metadata": {},
   "outputs": [
    {
     "name": "stdin",
     "output_type": "stream",
     "text": [
      " 1\n",
      " 2\n"
     ]
    },
    {
     "name": "stdout",
     "output_type": "stream",
     "text": [
      "1.0\n"
     ]
    }
   ],
   "source": [
    "# prog prac 1.2\n",
    "x=int(input())\n",
    "n=int(input())\n",
    "res=pow(x,n)\n",
    "print(res)"
   ]
  },
  {
   "cell_type": "code",
   "execution_count": null,
   "metadata": {},
   "outputs": [],
   "source": [
    "# prog prac 1.3\n",
    "# Left for your practice"
   ]
  },
  {
   "cell_type": "markdown",
   "metadata": {},
   "source": [
    "## Conditional Statements"
   ]
  },
  {
   "cell_type": "code",
   "execution_count": null,
   "metadata": {},
   "outputs": [],
   "source": [
    "# Check for specific input without storing it\n",
    "if input(\"Enter something: \") == \"something\":\n",
    "    print (\"Something something\")\n",
    "else: print (\"Not Something\")"
   ]
  },
  {
   "cell_type": "markdown",
   "metadata": {},
   "source": [
    "### Practice 1.4 Given an integer n, find if n is positive, negative or 0. \r\n",
    "If n is positive, print \"Positive\" If n is negative, print \"Negative\" And if n is equal to 0, print \"Zero\"."
   ]
  },
  {
   "cell_type": "code",
   "execution_count": 19,
   "metadata": {},
   "outputs": [
    {
     "name": "stdin",
     "output_type": "stream",
     "text": [
      " 10\n"
     ]
    },
    {
     "name": "stdout",
     "output_type": "stream",
     "text": [
      "Positive\n"
     ]
    }
   ],
   "source": [
    "# prog prac 1.4 \n",
    "n=int(input())\n",
    "if n>0:\n",
    "    print(\"Positive\")\n",
    "elif n<0:\n",
    "    print(\"Negetive\")"
   ]
  },
  {
   "cell_type": "code",
   "execution_count": null,
   "metadata": {},
   "outputs": [],
   "source": [
    "# if..else\n",
    "v1 = 5\n",
    "if v1 == 5:\n",
    "    print (v1)\n",
    "else:\n",
    "    print (\"v1 is not 5\")"
   ]
  },
  {
   "cell_type": "code",
   "execution_count": null,
   "metadata": {},
   "outputs": [],
   "source": [
    "# if..elif..else\n",
    "s1 = \"Jennifer\"\n",
    "s2 = \"loves\"\n",
    "s3 = \"Python\"\n",
    "if s1 == \"Python\":\n",
    "    print (\"s1 is Python\")\n",
    "elif s2 == \"Jennifer\":\n",
    "    print (\"s2 is Atul\")\n",
    "elif s1 == \"loves\":\n",
    "    print (\"s1 is loves\")\n",
    "else:\n",
    "    print (\"Atul loves Python!\")"
   ]
  },
  {
   "cell_type": "code",
   "execution_count": null,
   "metadata": {},
   "outputs": [],
   "source": [
    "# One liner\n",
    "v1 = 5\n",
    "x = 10 if v1 == 5 else 13\n",
    "print (x)"
   ]
  },
  {
   "cell_type": "code",
   "execution_count": null,
   "metadata": {},
   "outputs": [],
   "source": [
    "# Let's see the conditionals available\n",
    "v1 = \"Jennifer\"\n",
    "v2 = \"Python\"\n",
    "v3 = 45\n",
    "v4 = 67\n",
    "v5 = 45\n",
    "\n",
    "# Test for equality\n",
    "print (v1 == v2)\n",
    "\n",
    "# Test for greater than and greater than equal\n",
    "print (v4 > v3)\n",
    "print (v5 >= v2)\n",
    "\n",
    "# Test for lesser than and lesser than equal\n",
    "print (v4 < v3)\n",
    "print (v5 <= v2)\n",
    "\n",
    "# Inequality\n",
    "print (v1 != v2)"
   ]
  },
  {
   "cell_type": "code",
   "execution_count": null,
   "metadata": {},
   "outputs": [],
   "source": [
    "# Note:\n",
    "v1 = 45\n",
    "v2 = \"45\"\n",
    "print (v1 == v2) # False\n",
    "print (str(v1) == v2) # True"
   ]
  },
  {
   "cell_type": "code",
   "execution_count": null,
   "metadata": {},
   "outputs": [],
   "source": [
    "# Ignore case when comparing two strings\n",
    "s1 = \"Atul\"\n",
    "s2 = \"atul\"\n",
    "\n",
    "print (s1 == s2) # False\n",
    "print (s1.lower() == s2.lower()) # True\n",
    "# OR\n",
    "print (s1.upper() == s2.upper()) # True"
   ]
  },
  {
   "cell_type": "code",
   "execution_count": null,
   "metadata": {},
   "outputs": [],
   "source": [
    "# Checking multiple conditions 'and' and 'or'\n",
    "v1 = \"Jennifer\"\n",
    "v2 = \"Python\"\n",
    "\n",
    "# 'and' -> evaluates true when both conditions are True\n",
    "print (v1 == \"Jennifer\" and v2 == \"Python\")\n",
    "# 'or' -> evaluates true when any one condition is True\n",
    "print (v1 == \"Python\" or v2 == \"Python\")"
   ]
  },
  {
   "cell_type": "markdown",
   "metadata": {},
   "source": [
    "*Note:*\r\n",
    "When making comparisons with string with '>' or '<' The strings are compared lexographically."
   ]
  },
  {
   "cell_type": "code",
   "execution_count": null,
   "metadata": {},
   "outputs": [],
   "source": [
    "s1 = \"Atul\"\n",
    "s2 = \"Python\"\n",
    "\n",
    "print (s1 > s2) # True -> since 'Atul' comes lexographically before 'Python'"
   ]
  },
  {
   "cell_type": "code",
   "execution_count": null,
   "metadata": {},
   "outputs": [],
   "source": [
    "# Check whether a value is in a list -> 'in'\n",
    "l1 = [23, 45, 67, \"Atul\", \"Python\", 'A']\n",
    "\n",
    "print (23 in l1)\n",
    "print ('A' in l1)\n",
    "print (\"Python\" in l1)\n",
    "print (32 in l1)"
   ]
  },
  {
   "cell_type": "code",
   "execution_count": null,
   "metadata": {},
   "outputs": [],
   "source": [
    "# Putting it together\n",
    "l1 = [23, 1, 'A', \"Atul\", 9.34]\n",
    "\n",
    "# This is True, so the other statements are not checked\n",
    "if 23 in l1 and 'B' not in l1: # Note: use of 'not'\n",
    "    print (\"1\")\n",
    "elif 23 >= l1[0]: # True\n",
    "    print (\"2\")\n",
    "elif 2.45 < l1[-1]: # True\n",
    "    print (\"3\")"
   ]
  },
  {
   "cell_type": "code",
   "execution_count": null,
   "metadata": {},
   "outputs": [],
   "source": [
    "# Checking if list is empty\n",
    "l1 = []\n",
    "l2 = [\"Jennifer\"]\n",
    "\n",
    "if l1:\n",
    "    print (1)\n",
    "elif l2:\n",
    "    print (2)"
   ]
  },
  {
   "cell_type": "markdown",
   "metadata": {},
   "source": [
    "## Loops"
   ]
  },
  {
   "cell_type": "code",
   "execution_count": null,
   "metadata": {},
   "outputs": [],
   "source": [
    "# One Liner while\n",
    "v1 = 0\n",
    "while v1 <= 40: v1 += 1\n",
    "print (v1)"
   ]
  },
  {
   "cell_type": "code",
   "execution_count": null,
   "metadata": {},
   "outputs": [],
   "source": [
    "# Terminate loop on a certain user input\n",
    "# Note: The loop will break only when the user inputs 100\n",
    "v1 = 1\n",
    "while v1 != 100:\n",
    "    v1 = int(input(\"Enter new v1: \"))\n",
    "    print (\"v1 modified to: \" + str(v1))"
   ]
  },
  {
   "cell_type": "code",
   "execution_count": null,
   "metadata": {},
   "outputs": [],
   "source": [
    "# 'continue' -> continues to next iteration, skips all statements after it for that iteration\n",
    "# Note: When 'v1' < 100 the last print statement is skipped and the control moves to the next iteration\n",
    "while 1:\n",
    "    print (\"Iteration begins\")\n",
    "    v1 = int(input())\n",
    "    if v1 == 100:\n",
    "        break;\n",
    "    elif v1 < 100:\n",
    "        print (\"v1 less than 100\")\n",
    "        continue;\n",
    "    print (\"Iteration complete\")"
   ]
  },
  {
   "cell_type": "code",
   "execution_count": null,
   "metadata": {},
   "outputs": [],
   "source": [
    "# Removing all instances of a specific value in list\n",
    "l1 = ['A', 'B', 'C', 'D', 'A', 'E', 'Q', 'A', 'Z', 'A', 'Q', 'D', 'A']\n",
    "while 'A' in l1: l1.remove('A')\n",
    "print (l1)"
   ]
  },
  {
   "cell_type": "code",
   "execution_count": 21,
   "metadata": {},
   "outputs": [
    {
     "name": "stdin",
     "output_type": "stream",
     "text": [
      " 6\n"
     ]
    }
   ],
   "source": [
    "# Calculator using python\n",
    "# for exit input 6\n",
    "\n",
    "n=int(input())\n",
    "while n!=6:\n",
    "    if n <= 5 and n >= 1:\n",
    "        a=int(input())\n",
    "        b=int(input())\n",
    "    if n==1:\n",
    "        print(a+b)\n",
    "    if n==2:\n",
    "        print(a-b)\n",
    "    if n==3:\n",
    "        print(a*2)\n",
    "    if n==4:\n",
    "        print(a//b)\n",
    "    if n==5:\n",
    "        print(a%b)\n",
    "    elif n < 1 or n > 6:\n",
    "        print(\"Invalid Operation\")\n",
    "    n=int(input())"
   ]
  },
  {
   "cell_type": "code",
   "execution_count": 24,
   "metadata": {},
   "outputs": [
    {
     "name": "stdin",
     "output_type": "stream",
     "text": [
      " 10\n"
     ]
    },
    {
     "name": "stdout",
     "output_type": "stream",
     "text": [
      "12345678910\n",
      " 2345678910\n",
      "  345678910\n",
      "   45678910\n",
      "    5678910\n",
      "     678910\n",
      "      78910\n",
      "       8910\n",
      "        910\n",
      "         10\n",
      "        910\n",
      "       8910\n",
      "      78910\n",
      "     678910\n",
      "    5678910\n",
      "   45678910\n",
      "  345678910\n",
      " 2345678910\n",
      "12345678910\n"
     ]
    }
   ],
   "source": [
    "# For loop\n",
    "# Print number pyramid\n",
    "n = int(input())\n",
    "for i in range(1,n+1):\n",
    "    count = 1\n",
    "    for j in range(1,i):\n",
    "        print(\" \",end=\"\")\n",
    "        count = count + 1\n",
    "    num = i \n",
    "    for j in range(count,n+1):\n",
    "        print(num,end=\"\") \n",
    "        num = num + 1\n",
    "    print()\n",
    "# increasing\n",
    "for i in range(n-1,0,-1):\n",
    "    count = 1\n",
    "    for j in range(1,i):\n",
    "        print(\" \",end=\"\") \n",
    "        count = count + 1\n",
    "    num = i \n",
    "    for j in range(count,n+1): \n",
    "        print(num,end=\"\")\n",
    "        num = num + 1 \n",
    "    print()"
   ]
  },
  {
   "cell_type": "code",
   "execution_count": null,
   "metadata": {},
   "outputs": [],
   "source": []
  }
 ],
 "metadata": {
  "kernelspec": {
   "display_name": "Python 3 (ipykernel)",
   "language": "python",
   "name": "python3"
  },
  "language_info": {
   "codemirror_mode": {
    "name": "ipython",
    "version": 3
   },
   "file_extension": ".py",
   "mimetype": "text/x-python",
   "name": "python",
   "nbconvert_exporter": "python",
   "pygments_lexer": "ipython3",
   "version": "3.11.8"
  }
 },
 "nbformat": 4,
 "nbformat_minor": 4
}
